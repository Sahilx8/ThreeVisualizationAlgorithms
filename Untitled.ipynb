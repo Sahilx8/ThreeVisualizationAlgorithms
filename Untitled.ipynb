{
 "cells": [
  {
   "cell_type": "code",
   "execution_count": 2,
   "id": "14e5d115-ee28-4557-a94a-94d19a277996",
   "metadata": {},
   "outputs": [
    {
     "name": "stderr",
     "output_type": "stream",
     "text": [
      "test_add (__main__.TestMathOperations.test_add) ... ok\n",
      "\n",
      "----------------------------------------------------------------------\n",
      "Ran 1 test in 0.002s\n",
      "\n",
      "OK\n"
     ]
    },
    {
     "data": {
      "text/plain": [
       "<unittest.main.TestProgram at 0x1041c8b30>"
      ]
     },
     "execution_count": 2,
     "metadata": {},
     "output_type": "execute_result"
    }
   ],
   "source": [
    "import unittest\n",
    "\n",
    "# Sample function to test\n",
    "def add(a, b):\n",
    "    return a + b\n",
    "\n",
    "# Define the test class\n",
    "class TestMathOperations(unittest.TestCase):\n",
    "    def test_add(self):\n",
    "        self.assertEqual(add(1, 2), 3)\n",
    "\n",
    "# Run the test\n",
    "unittest.main(argv=[''], verbosity=2, exit=False)\n"
   ]
  },
  {
   "cell_type": "code",
   "execution_count": 6,
   "id": "16c3abd5-6431-44d2-ad29-0340860dafdd",
   "metadata": {},
   "outputs": [],
   "source": [
    "data = pd.DataFrame({\n",
    "    'A': [1, 2, 3, 4],\n",
    "    'B': [5, 6, None, 8]\n",
    "})\n",
    "\n",
    "# Fill missing values with a specified value (e.g., 0)\n",
    "data['B'] = data['B'].fillna(0)\n",
    "\n",
    "# Check for missing values again\n",
    "assert data.isnull().sum().sum() == 0, \"There are missing values in the dataset!\""
   ]
  },
  {
   "cell_type": "code",
   "execution_count": 8,
   "id": "e6260338-7d71-482c-8163-8b40e4961d2c",
   "metadata": {},
   "outputs": [],
   "source": [
    "assert data.shape[0] == 4, \"Row count mismatch\"\n",
    "assert data.shape[1] == 2, \"Column count mismatch\""
   ]
  },
  {
   "cell_type": "code",
   "execution_count": 9,
   "id": "f2327278-6a89-4490-b614-7d4f627f147a",
   "metadata": {},
   "outputs": [],
   "source": [
    "assert data['A'].dtype == 'int64', \"Column 'A' type mismatch\""
   ]
  },
  {
   "cell_type": "code",
   "execution_count": 10,
   "id": "6ccfbd33-307d-44b3-8caf-ef8735cb4e43",
   "metadata": {},
   "outputs": [],
   "source": [
    "# Example model prediction\n",
    "X_test = [[1, 2], [3, 4]]  # Sample input\n",
    "model_prediction = [1, 0]  # Example prediction\n",
    "\n",
    "assert len(model_prediction) == len(X_test), \"Prediction length mismatch\""
   ]
  },
  {
   "cell_type": "code",
   "execution_count": 11,
   "id": "3e38c6fe-f8e9-4cd3-a226-1004fdf3b8a7",
   "metadata": {},
   "outputs": [],
   "source": [
    "accuracy = 0.85  # Example accuracy\n",
    "assert accuracy > 0.80, \"Model accuracy is below the threshold\"\n"
   ]
  },
  {
   "cell_type": "code",
   "execution_count": 12,
   "id": "45bccecd-9eb8-458c-9241-10c6932eb62b",
   "metadata": {},
   "outputs": [],
   "source": [
    "from unittest.mock import patch\n",
    "\n",
    "# Function to mock\n",
    "def get_external_data():\n",
    "    return \"Real data\"\n",
    "\n",
    "@patch('__main__.get_external_data')\n",
    "def test_mocked_function(mocked_func):\n",
    "    mocked_func.return_value = \"Mocked data\"\n",
    "    result = get_external_data()\n",
    "    assert result == \"Mocked data\", \"Mocking failed\"\n"
   ]
  },
  {
   "cell_type": "code",
   "execution_count": 13,
   "id": "33730a85-50ac-4b5d-affc-5e7210861529",
   "metadata": {},
   "outputs": [],
   "source": [
    "import time\n",
    "\n",
    "start_time = time.time()\n",
    "\n",
    "# Simulate a function call\n",
    "time.sleep(2)  # Simulate delay\n",
    "\n",
    "elapsed_time = time.time() - start_time\n",
    "assert elapsed_time < 3, f\"Execution time exceeded threshold: {elapsed_time}s\"\n"
   ]
  },
  {
   "cell_type": "code",
   "execution_count": 14,
   "id": "55ab0285-6123-4368-864a-31002426bf97",
   "metadata": {},
   "outputs": [
    {
     "data": {
      "image/png": "[encoded data removed]",
      "text/plain": [
       "<Figure size 640x480 with 1 Axes>"
      ]
     },
     "metadata": {},
     "output_type": "display_data"
    }
   ],
   "source": [
    "import matplotlib.pyplot as plt\n",
    "\n",
    "try:\n",
    "    plt.plot([1, 2, 3, 4])\n",
    "    plt.show()\n",
    "    success = True\n",
    "except Exception as e:\n",
    "    success = False\n",
    "\n",
    "assert success, \"Plotting failed\""
   ]
  },
  {
   "cell_type": "code",
   "execution_count": null,
   "id": "098078ca-4e2b-444b-b9e0-0eda33cf8d03",
   "metadata": {},
   "outputs": [],
   "source": []
  }
 ],
 "metadata": {
  "kernelspec": {
   "display_name": "Python 3 (ipykernel)",
   "language": "python",
   "name": "python3"
  },
  "language_info": {
   "codemirror_mode": {
    "name": "ipython",
    "version": 3
   },
   "file_extension": ".py",
   "mimetype": "text/x-python",
   "name": "python",
   "nbconvert_exporter": "python",
   "pygments_lexer": "ipython3",
   "version": "3.12.4"
  }
 },
 "nbformat": 4,
 "nbformat_minor": 5
}
