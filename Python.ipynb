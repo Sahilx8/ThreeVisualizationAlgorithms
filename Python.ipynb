{
 "cells": [
  {
   "cell_type": "code",
   "execution_count": null,
   "id": "697d50af-4d86-4851-930d-d5a2e029b4fa",
   "metadata": {},
   "outputs": [],
   "source": [
    "# Gudio Van Rossum is author of python.\n",
    "# He is a big fan of British comedy movie called as monty python's flying circus.\n",
    "# python install on python(3.12.0) and pycharm\n",
    "# English to programming language to binary format.\n",
    "# IDE- Integrated Development Enviromrent"
   ]
  },
  {
   "cell_type": "code",
   "execution_count": 1,
   "id": "1da61d8a-653f-4309-a031-d64456cedc1c",
   "metadata": {},
   "outputs": [
    {
     "data": {
      "text/plain": [
       "5"
      ]
     },
     "execution_count": 1,
     "metadata": {},
     "output_type": "execute_result"
    }
   ],
   "source": [
    "2+3"
   ]
  },
  {
   "cell_type": "code",
   "execution_count": null,
   "id": "e81a85c3-4586-4d16-abe3-30c2bd0bcb2a",
   "metadata": {},
   "outputs": [],
   "source": [
    "9-8"
   ]
  },
  {
   "cell_type": "code",
   "execution_count": null,
   "id": "1a70b596-982f-4be5-a302-72588eb0cc08",
   "metadata": {},
   "outputs": [],
   "source": [
    "4*6"
   ]
  },
  {
   "cell_type": "code",
   "execution_count": null,
   "id": "23924975-2166-4f34-80a0-16fe3cb0c828",
   "metadata": {},
   "outputs": [],
   "source": [
    "8/4"
   ]
  },
  {
   "cell_type": "code",
   "execution_count": null,
   "id": "c8a56b64-e6fe-4112-b9f9-ba3c916d8fcd",
   "metadata": {},
   "outputs": [],
   "source": [
    "5/2"
   ]
  },
  {
   "cell_type": "code",
   "execution_count": null,
   "id": "b6d0f4f3-2208-43b1-83a4-996ad9bbb768",
   "metadata": {},
   "outputs": [],
   "source": [
    "8.0 / 4.0"
   ]
  },
  {
   "cell_type": "code",
   "execution_count": null,
   "id": "b4fdef84-d5ea-4d37-827f-b972e24d4bad",
   "metadata": {},
   "outputs": [],
   "source": [
    "8.0/4"
   ]
  },
  {
   "cell_type": "code",
   "execution_count": null,
   "id": "96f9def1-ca11-4c1a-91d4-b2cad829058d",
   "metadata": {},
   "outputs": [],
   "source": [
    "8/4.0"
   ]
  },
  {
   "cell_type": "code",
   "execution_count": null,
   "id": "828fb20b-db33-4c6d-b382-3688c567088b",
   "metadata": {},
   "outputs": [],
   "source": [
    "8//4"
   ]
  },
  {
   "cell_type": "code",
   "execution_count": null,
   "id": "80d16152-68c4-41c0-a8aa-ba79d650a8de",
   "metadata": {},
   "outputs": [],
   "source": [
    "8+9-10"
   ]
  },
  {
   "cell_type": "code",
   "execution_count": null,
   "id": "e1965025-aede-4bcd-8913-705371810dff",
   "metadata": {},
   "outputs": [],
   "source": [
    "2*2*2"
   ]
  },
  {
   "cell_type": "code",
   "execution_count": null,
   "id": "8a9dcb63-5234-4a87-8bdd-db6306e303f2",
   "metadata": {},
   "outputs": [],
   "source": [
    "2 ** 3"
   ]
  },
  {
   "cell_type": "code",
   "execution_count": null,
   "id": "5e2fcb15-44e2-4da1-be2f-c37f69f283a0",
   "metadata": {},
   "outputs": [],
   "source": [
    "5//2"
   ]
  },
  {
   "cell_type": "code",
   "execution_count": null,
   "id": "dd8bdf6d-8363-479c-ab47-f7a747e94e2e",
   "metadata": {},
   "outputs": [],
   "source": [
    "10//3"
   ]
  },
  {
   "cell_type": "code",
   "execution_count": null,
   "id": "23b8d13c-4e2f-4d78-93a0-4b72e824109f",
   "metadata": {},
   "outputs": [],
   "source": [
    "10%3"
   ]
  },
  {
   "cell_type": "code",
   "execution_count": null,
   "id": "28f50aed-54ff-4582-a275-a030d1a91f1b",
   "metadata": {},
   "outputs": [],
   "source": [
    "'navin'"
   ]
  },
  {
   "cell_type": "code",
   "execution_count": null,
   "id": "88700036-0c13-4cb2-9b5a-ac3b285f237b",
   "metadata": {},
   "outputs": [],
   "source": [
    "print('navin')"
   ]
  },
  {
   "cell_type": "code",
   "execution_count": null,
   "id": "a9ec1065-7efd-4501-adbe-618d4e49049e",
   "metadata": {},
   "outputs": [],
   "source": [
    "print('navin\\'s laptop')"
   ]
  },
  {
   "cell_type": "code",
   "execution_count": null,
   "id": "67ab1e2c-4dc5-4dcc-9b05-503d20794e38",
   "metadata": {},
   "outputs": [],
   "source": [
    "print(\"navin's laptop\")"
   ]
  },
  {
   "cell_type": "code",
   "execution_count": null,
   "id": "a37ee036-9d5f-4536-ad72-2bf2267137d4",
   "metadata": {},
   "outputs": [],
   "source": [
    "print('navin\\'s \"laptop\"')"
   ]
  },
  {
   "cell_type": "code",
   "execution_count": null,
   "id": "519b4a76-a7ba-46dc-8774-55fa2fd0cafc",
   "metadata": {},
   "outputs": [],
   "source": [
    "'navin' + 'navin'"
   ]
  },
  {
   "cell_type": "code",
   "execution_count": null,
   "id": "ed721915-911c-407e-a85c-fd41203dde63",
   "metadata": {},
   "outputs": [],
   "source": [
    "\"navin\" + \"navin\""
   ]
  },
  {
   "cell_type": "code",
   "execution_count": null,
   "id": "b7d95b5f-58d4-4308-82cd-09555feae3b4",
   "metadata": {},
   "outputs": [],
   "source": [
    "10 * 'navin'"
   ]
  },
  {
   "cell_type": "code",
   "execution_count": null,
   "id": "f48ad67c-b194-4ee1-a2f0-b684acfaf391",
   "metadata": {},
   "outputs": [],
   "source": [
    "10 * \"navin \""
   ]
  },
  {
   "cell_type": "code",
   "execution_count": null,
   "id": "30ce981f-d351-4424-96e2-761fe128fcaf",
   "metadata": {},
   "outputs": [],
   "source": [
    "print('c:\\docs\\\\navin')"
   ]
  },
  {
   "cell_type": "code",
   "execution_count": null,
   "id": "f1dfa103-8592-4ea4-ab45-49f23df41abb",
   "metadata": {},
   "outputs": [],
   "source": [
    "print(r\"c:\\docs\\navin\")"
   ]
  },
  {
   "cell_type": "code",
   "execution_count": null,
   "id": "21afa319-1001-40c8-8606-e01f63e3a98e",
   "metadata": {},
   "outputs": [],
   "source": [
    "a=1\n",
    "b=4\n",
    "(a,b)"
   ]
  },
  {
   "cell_type": "code",
   "execution_count": null,
   "id": "80f71aa0-a6eb-4492-86fb-aae6f6ce2591",
   "metadata": {},
   "outputs": [],
   "source": [
    "a"
   ]
  },
  {
   "cell_type": "code",
   "execution_count": null,
   "id": "d13147dc-20bb-4d89-822e-c723efedcc0c",
   "metadata": {},
   "outputs": [],
   "source": [
    "c"
   ]
  },
  {
   "cell_type": "code",
   "execution_count": null,
   "id": "ecb9c520-cb21-4cd9-8be0-4315fece9ee0",
   "metadata": {},
   "outputs": [],
   "source": [
    "a+10"
   ]
  },
  {
   "cell_type": "code",
   "execution_count": null,
   "id": "24e7c09e-e1d5-45f9-b649-23f66a26fa97",
   "metadata": {},
   "outputs": [],
   "source": [
    "_ + b"
   ]
  },
  {
   "cell_type": "code",
   "execution_count": null,
   "id": "27032a92-4a45-4008-b716-a1d50b1ddf93",
   "metadata": {},
   "outputs": [],
   "source": [
    "_ + b"
   ]
  },
  {
   "cell_type": "code",
   "execution_count": null,
   "id": "6edd36b1-2412-4b83-8719-8afe1756f286",
   "metadata": {},
   "outputs": [],
   "source": [
    "name=\"youtube\"\n",
    "name"
   ]
  },
  {
   "cell_type": "code",
   "execution_count": null,
   "id": "5265e17e-b007-4bf3-86dd-61c7252eccfb",
   "metadata": {},
   "outputs": [],
   "source": [
    "name='youtube'\n",
    "name"
   ]
  },
  {
   "cell_type": "code",
   "execution_count": null,
   "id": "8eea5c31-a7dd-4704-b7f2-d8bd6a44596f",
   "metadata": {},
   "outputs": [],
   "source": [
    "name + \" videos\""
   ]
  },
  {
   "cell_type": "code",
   "execution_count": null,
   "id": "99f4fe75-c0cc-47e8-91e9-8d2cdd5c4679",
   "metadata": {},
   "outputs": [],
   "source": [
    "name + ' videos'"
   ]
  },
  {
   "cell_type": "code",
   "execution_count": null,
   "id": "cde9fb2d-28c2-4830-abee-c9f1e7d3514c",
   "metadata": {},
   "outputs": [],
   "source": [
    "print(name[0])\n",
    "print(name[6])\n",
    "print(name[8])"
   ]
  },
  {
   "cell_type": "code",
   "execution_count": null,
   "id": "ba491eb5-46c5-4253-bd81-90616575d7a4",
   "metadata": {},
   "outputs": [],
   "source": [
    "print(name[0:2])\n",
    "print(name[1:4])\n",
    "print(name[1:])\n",
    "print(name[-1])\n",
    "print(name[:4])\n",
    "print(name[-2:])"
   ]
  },
  {
   "cell_type": "code",
   "execution_count": null,
   "id": "3d818573-2110-467a-9f84-0d54a3163a36",
   "metadata": {},
   "outputs": [],
   "source": [
    "name[0:3]='my'"
   ]
  },
  {
   "cell_type": "code",
   "execution_count": null,
   "id": "04f49b9e-31a2-4fff-86fc-3d6653ac9cff",
   "metadata": {},
   "outputs": [],
   "source": [
    "name[0:2]='my'"
   ]
  },
  {
   "cell_type": "code",
   "execution_count": null,
   "id": "1ae640b1-09f3-4355-8f98-fc2c6594fb04",
   "metadata": {},
   "outputs": [],
   "source": [
    "name[0]='r'"
   ]
  },
  {
   "cell_type": "code",
   "execution_count": null,
   "id": "963b055d-9d58-4af3-b383-c1faf3427c7d",
   "metadata": {},
   "outputs": [],
   "source": [
    "# string is immutable in python"
   ]
  },
  {
   "cell_type": "code",
   "execution_count": null,
   "id": "cbf1f320-4c2e-4d4c-9617-083aa140fd1b",
   "metadata": {},
   "outputs": [],
   "source": [
    "'My'+name[3:]"
   ]
  },
  {
   "cell_type": "code",
   "execution_count": null,
   "id": "13663cbc-9507-4897-b327-aa92ed4eb8a9",
   "metadata": {},
   "outputs": [],
   "source": [
    "len(name)"
   ]
  },
  {
   "cell_type": "code",
   "execution_count": null,
   "id": "ce247c98-f077-449a-a35f-6afbf70dd689",
   "metadata": {},
   "outputs": [],
   "source": [
    "print(r'Telusko \\n Rocks')"
   ]
  },
  {
   "cell_type": "code",
   "execution_count": null,
   "id": "dad1b5a8-c8fd-4ad5-bca5-7b082da9e34f",
   "metadata": {},
   "outputs": [],
   "source": [
    "# List\n",
    "num=1\n",
    "num"
   ]
  },
  {
   "cell_type": "code",
   "execution_count": null,
   "id": "1d4c0549-e44e-47fb-988a-410d3811d518",
   "metadata": {},
   "outputs": [],
   "source": [
    "num=1,2\n",
    "num"
   ]
  },
  {
   "cell_type": "code",
   "execution_count": null,
   "id": "ceb04cb1-018e-4b58-87df-4d6ba455dca2",
   "metadata": {},
   "outputs": [],
   "source": [
    "num=1,2,3,4\n",
    "num"
   ]
  },
  {
   "cell_type": "code",
   "execution_count": null,
   "id": "3cf24fd7-e0fb-4d33-8506-a36279d8364e",
   "metadata": {},
   "outputs": [],
   "source": [
    "num[1]"
   ]
  },
  {
   "cell_type": "code",
   "execution_count": null,
   "id": "2461d1ac-d157-4ae5-89ad-94e59b641272",
   "metadata": {},
   "outputs": [],
   "source": [
    "num=[1,2,3,4]"
   ]
  },
  {
   "cell_type": "code",
   "execution_count": null,
   "id": "db8db771-ed33-441c-932a-dec0d526579d",
   "metadata": {},
   "outputs": [],
   "source": [
    "num"
   ]
  },
  {
   "cell_type": "code",
   "execution_count": null,
   "id": "e510cc2f-9222-47c7-b941-b2d73830edf9",
   "metadata": {},
   "outputs": [],
   "source": [
    "num=[1,1,2,3,4]\n",
    "num"
   ]
  },
  {
   "cell_type": "code",
   "execution_count": null,
   "id": "f71776a4-1903-4176-b9c0-75ec35efc156",
   "metadata": {},
   "outputs": [],
   "source": [
    "num[5,4]"
   ]
  },
  {
   "cell_type": "code",
   "execution_count": null,
   "id": "a37e8f73-7fa1-487f-b2b0-d68aa33bbaa7",
   "metadata": {},
   "outputs": [],
   "source": [
    "num[0:3]"
   ]
  },
  {
   "cell_type": "code",
   "execution_count": null,
   "id": "fa31925f-60d6-4817-b1dd-b4a57ede98ff",
   "metadata": {},
   "outputs": [],
   "source": [
    "name=\"youtube\"\n",
    "print(name[1:-2])"
   ]
  },
  {
   "cell_type": "code",
   "execution_count": null,
   "id": "2de3c491-a386-4d6e-a3b2-669e77f1fffc",
   "metadata": {},
   "outputs": [],
   "source": [
    "name=['navin','kiran','john']\n",
    "name"
   ]
  },
  {
   "cell_type": "code",
   "execution_count": null,
   "id": "b5997f05-e316-435b-950c-4f5c6557c99d",
   "metadata": {},
   "outputs": [],
   "source": [
    "name[0]"
   ]
  },
  {
   "cell_type": "code",
   "execution_count": null,
   "id": "e2963538-7cb9-4bf3-ba37-2e932b247b9e",
   "metadata": {},
   "outputs": [],
   "source": [
    "name[1][2]"
   ]
  },
  {
   "cell_type": "code",
   "execution_count": null,
   "id": "b66aca01-48cd-49cf-aa4e-43f9ed873485",
   "metadata": {},
   "outputs": [],
   "source": [
    "values=[1.5,'two','three',4]\n",
    "values"
   ]
  },
  {
   "cell_type": "code",
   "execution_count": null,
   "id": "f19365f6-08cb-45ea-9668-a9c1fa21d090",
   "metadata": {},
   "outputs": [],
   "source": [
    "mil=[name,values]\n",
    "mil"
   ]
  },
  {
   "cell_type": "code",
   "execution_count": null,
   "id": "25b472e5-e1f4-409c-b58b-d3fa7620ea64",
   "metadata": {},
   "outputs": [],
   "source": [
    "list1=[1,2,3,4]\n",
    "list1"
   ]
  },
  {
   "cell_type": "code",
   "execution_count": null,
   "id": "f03097b1-6804-41f5-9c09-ed30da3a504e",
   "metadata": {},
   "outputs": [],
   "source": [
    "list1.append(5)"
   ]
  },
  {
   "cell_type": "code",
   "execution_count": null,
   "id": "5d9d5d09-d592-4807-9030-1c6b085fbe20",
   "metadata": {},
   "outputs": [],
   "source": [
    "list1"
   ]
  },
  {
   "cell_type": "code",
   "execution_count": null,
   "id": "0954cf4d-db4b-4354-9a88-7b32fac138b2",
   "metadata": {},
   "outputs": [],
   "source": [
    "list1.insert(2,77)\n",
    "list1"
   ]
  },
  {
   "cell_type": "code",
   "execution_count": null,
   "id": "9b6ed1f9-a948-4040-b757-7648726ebd52",
   "metadata": {},
   "outputs": [],
   "source": [
    "list1.remove(77)"
   ]
  },
  {
   "cell_type": "code",
   "execution_count": null,
   "id": "0ee0d369-f21a-4d07-8d0a-b07806b1df2b",
   "metadata": {},
   "outputs": [],
   "source": [
    "list1"
   ]
  },
  {
   "cell_type": "code",
   "execution_count": null,
   "id": "1ca690c1-4142-4e2b-b58f-7831ccad888b",
   "metadata": {},
   "outputs": [],
   "source": [
    "list1.pop(2)\n",
    "list1"
   ]
  },
  {
   "cell_type": "code",
   "execution_count": null,
   "id": "4655d3c2-3d9f-4310-a0c8-649aafa15df7",
   "metadata": {},
   "outputs": [],
   "source": [
    "list1.pop()"
   ]
  },
  {
   "cell_type": "code",
   "execution_count": null,
   "id": "ffef75f9-9e5c-4627-b362-c917c5172316",
   "metadata": {},
   "outputs": [],
   "source": [
    "list1"
   ]
  },
  {
   "cell_type": "code",
   "execution_count": null,
   "id": "ffc0582b-7bc3-489f-b2be-602bcd5c4f79",
   "metadata": {},
   "outputs": [],
   "source": [
    "del list1[1:4]"
   ]
  },
  {
   "cell_type": "code",
   "execution_count": null,
   "id": "f3cddee9-5e97-4574-88e6-a4e5b6275a59",
   "metadata": {},
   "outputs": [],
   "source": [
    "list1"
   ]
  },
  {
   "cell_type": "code",
   "execution_count": null,
   "id": "1fe68c99-7269-4f03-b036-b627ea3ed221",
   "metadata": {},
   "outputs": [],
   "source": [
    "list1.extend([10,20,30,40])"
   ]
  },
  {
   "cell_type": "code",
   "execution_count": null,
   "id": "3c66e47a-65cb-40c0-82c9-f165ab02befc",
   "metadata": {},
   "outputs": [],
   "source": [
    "list1"
   ]
  },
  {
   "cell_type": "code",
   "execution_count": null,
   "id": "41ed5942-6cc1-4ae7-8ca8-0f7b995ecafb",
   "metadata": {},
   "outputs": [],
   "source": [
    "del list1[2:]"
   ]
  },
  {
   "cell_type": "code",
   "execution_count": null,
   "id": "c091cef9-e2d6-45ef-9a8c-91d492226008",
   "metadata": {},
   "outputs": [],
   "source": [
    "list1"
   ]
  },
  {
   "cell_type": "code",
   "execution_count": null,
   "id": "b3c49737-edaf-41f8-b5d0-e8846a16a5f9",
   "metadata": {},
   "outputs": [],
   "source": [
    "list1.extend([10,20,30,40])"
   ]
  },
  {
   "cell_type": "code",
   "execution_count": null,
   "id": "729b52ed-d64a-4914-8067-c9fed904521d",
   "metadata": {},
   "outputs": [],
   "source": [
    "list1"
   ]
  },
  {
   "cell_type": "code",
   "execution_count": null,
   "id": "150eac68-bfc6-4737-bcb1-640cde6c5c70",
   "metadata": {},
   "outputs": [],
   "source": [
    "min(list1)"
   ]
  },
  {
   "cell_type": "code",
   "execution_count": null,
   "id": "c697ce7e-2a6d-4ca0-8253-129288d6c718",
   "metadata": {},
   "outputs": [],
   "source": [
    "max(list1)"
   ]
  },
  {
   "cell_type": "code",
   "execution_count": null,
   "id": "12f55eff-6ea8-4595-8a2b-1822d2bb070a",
   "metadata": {},
   "outputs": [],
   "source": [
    "sum(list1)"
   ]
  },
  {
   "cell_type": "code",
   "execution_count": null,
   "id": "726d72b6-5add-457b-805f-6fbbc03a0ec8",
   "metadata": {},
   "outputs": [],
   "source": [
    "list1.sort()\n",
    "list1"
   ]
  },
  {
   "cell_type": "code",
   "execution_count": null,
   "id": "b1287d99-9555-4a79-ac21-318dfdf4bb5b",
   "metadata": {},
   "outputs": [],
   "source": [
    "list1.reverse()"
   ]
  },
  {
   "cell_type": "code",
   "execution_count": null,
   "id": "9a2fedb1-d5c6-45d7-bc5f-ceafc79215ff",
   "metadata": {},
   "outputs": [],
   "source": [
    "list1"
   ]
  },
  {
   "cell_type": "code",
   "execution_count": null,
   "id": "ac3ed170-1868-4cd2-9d03-b5888b521bc3",
   "metadata": {},
   "outputs": [],
   "source": [
    "list1"
   ]
  },
  {
   "cell_type": "code",
   "execution_count": null,
   "id": "9f2f88cc-7f93-4ddf-8137-eac47151e124",
   "metadata": {},
   "outputs": [],
   "source": [
    "name=\"Telusko\"\n",
    "print(name[-3])"
   ]
  },
  {
   "cell_type": "code",
   "execution_count": null,
   "id": "3e51eee5-c6b7-4d4e-a859-eca01a4fb0da",
   "metadata": {},
   "outputs": [],
   "source": [
    "list1[1]=50\n",
    "list1"
   ]
  },
  {
   "cell_type": "code",
   "execution_count": null,
   "id": "aa9a82e4-48f9-4617-aeff-646070af65f2",
   "metadata": {},
   "outputs": [],
   "source": [
    "# Tuple\n",
    "tup=(21,36,14,25)\n",
    "tup"
   ]
  },
  {
   "cell_type": "code",
   "execution_count": null,
   "id": "a76d1e0b-992e-443a-b68a-1c6f1e381082",
   "metadata": {},
   "outputs": [],
   "source": [
    "tup[1]"
   ]
  },
  {
   "cell_type": "code",
   "execution_count": null,
   "id": "5c180709-ba7a-4a8d-9e3d-2c9123d2261f",
   "metadata": {},
   "outputs": [],
   "source": [
    "tup[1]=33"
   ]
  },
  {
   "cell_type": "code",
   "execution_count": null,
   "id": "f20b4c0f-1f55-4e18-84d8-9cfdb42aa924",
   "metadata": {},
   "outputs": [],
   "source": [
    "tup.append(10)"
   ]
  },
  {
   "cell_type": "code",
   "execution_count": null,
   "id": "08e561a2-7f7e-4dd3-892d-d952dc85af2b",
   "metadata": {},
   "outputs": [],
   "source": [
    "tup.count(30)"
   ]
  },
  {
   "cell_type": "code",
   "execution_count": null,
   "id": "4336ab3a-5976-440a-8fb6-d0a099d4621c",
   "metadata": {},
   "outputs": [],
   "source": [
    "tup.index(36)\n",
    "# Iteration in tuple is faster than list."
   ]
  },
  {
   "cell_type": "code",
   "execution_count": null,
   "id": "7aafef23-93b0-411b-9512-f54ec6ca7378",
   "metadata": {},
   "outputs": [],
   "source": [
    "s={22,25,14,21,5}\n",
    "s"
   ]
  },
  {
   "cell_type": "code",
   "execution_count": null,
   "id": "463b0bf1-8666-4f67-9af2-95f1341f31a9",
   "metadata": {},
   "outputs": [],
   "source": [
    "s={25,14,98,63,75,98}\n",
    "s"
   ]
  },
  {
   "cell_type": "code",
   "execution_count": null,
   "id": "2f067d45-28c1-429b-bf7a-4a956288696c",
   "metadata": {},
   "outputs": [],
   "source": [
    "s"
   ]
  },
  {
   "cell_type": "code",
   "execution_count": null,
   "id": "df47ecf9-8e0e-401e-9e31-ef00d7788942",
   "metadata": {},
   "outputs": [],
   "source": [
    "s={1,1,2,3,4}\n",
    "s"
   ]
  },
  {
   "cell_type": "code",
   "execution_count": null,
   "id": "1d340016-17e8-4e2b-ac19-12d659102229",
   "metadata": {},
   "outputs": [],
   "source": [
    "s[2]"
   ]
  },
  {
   "cell_type": "code",
   "execution_count": null,
   "id": "dc2974ea-06db-47b2-ab5f-7bfc3a074111",
   "metadata": {},
   "outputs": [],
   "source": [
    "s.pop()"
   ]
  },
  {
   "cell_type": "code",
   "execution_count": null,
   "id": "3f3c5d05-2476-4ec3-a09e-ed42402db2f2",
   "metadata": {},
   "outputs": [],
   "source": [
    "s"
   ]
  },
  {
   "cell_type": "code",
   "execution_count": null,
   "id": "f8774b39-2a45-4f53-9fe8-a9aa19e71b0c",
   "metadata": {},
   "outputs": [],
   "source": [
    "s.pop()"
   ]
  },
  {
   "cell_type": "code",
   "execution_count": null,
   "id": "2dc59fdf-a575-4889-afca-7041c92d2836",
   "metadata": {},
   "outputs": [],
   "source": [
    "s"
   ]
  },
  {
   "cell_type": "code",
   "execution_count": null,
   "id": "66485c50-e302-4560-adaf-5389f64b1a03",
   "metadata": {},
   "outputs": [],
   "source": [
    "s[1]=2"
   ]
  },
  {
   "cell_type": "code",
   "execution_count": null,
   "id": "0c615728-a58d-4d80-b129-7b541084cb45",
   "metadata": {},
   "outputs": [],
   "source": [
    "s[1]"
   ]
  },
  {
   "cell_type": "code",
   "execution_count": null,
   "id": "f170549f-e242-4955-8ae9-5d2ca6ebd5af",
   "metadata": {},
   "outputs": [],
   "source": [
    "s={'navin','youtube',1,2}"
   ]
  },
  {
   "cell_type": "code",
   "execution_count": null,
   "id": "6cdc5fd5-58c6-4232-9d75-40e491dfc0f1",
   "metadata": {},
   "outputs": [],
   "source": [
    "s"
   ]
  },
  {
   "cell_type": "code",
   "execution_count": null,
   "id": "8af8c785-e9a7-4a22-9c99-c819b30ccfba",
   "metadata": {},
   "outputs": [],
   "source": [
    "s={'navin','youtube',1,2,'youtube'}\n",
    "s"
   ]
  },
  {
   "cell_type": "code",
   "execution_count": null,
   "id": "db70257a-73a1-44e0-bd61-945205702949",
   "metadata": {},
   "outputs": [],
   "source": [
    "s"
   ]
  },
  {
   "cell_type": "code",
   "execution_count": null,
   "id": "7472edcc-807b-4a6b-82f1-e10649d915d1",
   "metadata": {},
   "outputs": [],
   "source": [
    "s={1,2,3,1,2,3,3.1}\n",
    "s"
   ]
  },
  {
   "cell_type": "code",
   "execution_count": null,
   "id": "2cc8ce9c-659d-4a2f-abe4-02fe6ddf4611",
   "metadata": {},
   "outputs": [],
   "source": [
    "nums=[25,36,95,14,12,26]\n",
    "nums"
   ]
  },
  {
   "cell_type": "code",
   "execution_count": null,
   "id": "101c7bfe-0c76-48b4-9ad7-3b5a0b26b795",
   "metadata": {},
   "outputs": [],
   "source": [
    "del nums[2:5]"
   ]
  },
  {
   "cell_type": "code",
   "execution_count": null,
   "id": "c3ac2b5a-49c6-4030-a1ca-75e8405ee800",
   "metadata": {},
   "outputs": [],
   "source": [
    "nums"
   ]
  },
  {
   "cell_type": "code",
   "execution_count": null,
   "id": "4c9cfa47-d57d-4f21-83b7-ddf56903f686",
   "metadata": {},
   "outputs": [],
   "source": [
    "data={1:'navin',2:'kiran',4:'Harsh'}\n",
    "data"
   ]
  },
  {
   "cell_type": "code",
   "execution_count": null,
   "id": "e8c8f691-fbb9-41d2-a0aa-77714a6704dd",
   "metadata": {},
   "outputs": [],
   "source": [
    "data[1]"
   ]
  },
  {
   "cell_type": "code",
   "execution_count": null,
   "id": "4c8223ca-002d-4854-82c6-6217baca0e85",
   "metadata": {},
   "outputs": [],
   "source": [
    "data[0]"
   ]
  },
  {
   "cell_type": "code",
   "execution_count": null,
   "id": "c71d2150-3cd2-4bea-93d1-da0742a52015",
   "metadata": {},
   "outputs": [],
   "source": [
    "data[4]"
   ]
  },
  {
   "cell_type": "code",
   "execution_count": null,
   "id": "89a39da0-9ad4-44fb-9893-f542e91d647c",
   "metadata": {},
   "outputs": [],
   "source": [
    "data.get(3,'Not found')"
   ]
  },
  {
   "cell_type": "code",
   "execution_count": null,
   "id": "1ab9f3ac-efff-4038-93ee-d2a9019f9f66",
   "metadata": {},
   "outputs": [],
   "source": [
    "keys=['navin','kiran','harsh']\n",
    "values=['python','java','javascript']"
   ]
  },
  {
   "cell_type": "code",
   "execution_count": null,
   "id": "35854c34-f60f-4a76-968d-08c0a83d530f",
   "metadata": {},
   "outputs": [],
   "source": [
    "dic=dict(zip(keys,values))\n",
    "dic"
   ]
  },
  {
   "cell_type": "code",
   "execution_count": null,
   "id": "e52c09fe-61a8-4980-b7d0-dd00ec12e626",
   "metadata": {},
   "outputs": [],
   "source": [
    "dic['kiran']"
   ]
  },
  {
   "cell_type": "code",
   "execution_count": null,
   "id": "bc4790b4-0fac-49c3-ada2-62a41fa76198",
   "metadata": {},
   "outputs": [],
   "source": [
    "dic['monika']='cs'"
   ]
  },
  {
   "cell_type": "code",
   "execution_count": null,
   "id": "b89457b7-e6b3-418a-adbe-b71dfca613c4",
   "metadata": {},
   "outputs": [],
   "source": [
    "dic"
   ]
  },
  {
   "cell_type": "code",
   "execution_count": null,
   "id": "445ec31a-f31d-4582-8087-61ea6615a6df",
   "metadata": {},
   "outputs": [],
   "source": [
    "dic"
   ]
  },
  {
   "cell_type": "code",
   "execution_count": null,
   "id": "33dba48b-0d0f-452e-8954-4a9bdd8dd2dd",
   "metadata": {},
   "outputs": [],
   "source": [
    "prog={'js':'atom','cs':'vs','python':['pycharm','subline'],'java':{'jse':'netbeans','jee':'Eclipse'}}"
   ]
  },
  {
   "cell_type": "code",
   "execution_count": null,
   "id": "5f8f4ae6-775a-40c6-942f-45226ff1a16c",
   "metadata": {},
   "outputs": [],
   "source": [
    "prog"
   ]
  },
  {
   "cell_type": "code",
   "execution_count": null,
   "id": "cb5ef607-412e-40b5-85e7-f38d01820bc2",
   "metadata": {},
   "outputs": [],
   "source": [
    "prog['js']"
   ]
  },
  {
   "cell_type": "code",
   "execution_count": null,
   "id": "dad2316d-a1dc-4acd-9a7b-f8cac80fd996",
   "metadata": {},
   "outputs": [],
   "source": [
    "prog['cs']"
   ]
  },
  {
   "cell_type": "code",
   "execution_count": null,
   "id": "8f2da1b5-1199-44af-8b4a-4657a36afd5b",
   "metadata": {},
   "outputs": [],
   "source": [
    "prog['python']"
   ]
  },
  {
   "cell_type": "code",
   "execution_count": null,
   "id": "48dba758-98bf-4079-b69b-c4e86d05f6f7",
   "metadata": {},
   "outputs": [],
   "source": [
    "prog['python'][-2]"
   ]
  },
  {
   "cell_type": "code",
   "execution_count": null,
   "id": "2f618415-3334-4d5c-b8ee-b6d6083b886d",
   "metadata": {},
   "outputs": [],
   "source": [
    "prog['java']['jee']"
   ]
  },
  {
   "cell_type": "code",
   "execution_count": null,
   "id": "37a98aee-e288-479f-831c-e3ae7c2bda37",
   "metadata": {},
   "outputs": [],
   "source": [
    "help()"
   ]
  },
  {
   "cell_type": "code",
   "execution_count": null,
   "id": "40462451-0954-45b4-a728-997610b7052c",
   "metadata": {},
   "outputs": [],
   "source": [
    "num=5\n",
    "id(num)"
   ]
  },
  {
   "cell_type": "code",
   "execution_count": null,
   "id": "6f650d57-32f4-42b6-90a3-e5bbfa5f3798",
   "metadata": {},
   "outputs": [],
   "source": [
    "name='navin'\n",
    "id(name)"
   ]
  },
  {
   "cell_type": "code",
   "execution_count": null,
   "id": "a7a9b26a-7bce-4ab5-afc4-8835fe59293a",
   "metadata": {},
   "outputs": [],
   "source": [
    "a=5\n",
    "b=1\n",
    "print(id(a))\n",
    "print(id(b))"
   ]
  },
  {
   "cell_type": "code",
   "execution_count": null,
   "id": "d7b7023e-ea41-4fd3-9634-045fbb8a2ec0",
   "metadata": {},
   "outputs": [],
   "source": [
    "a=b\n",
    "print(id(a))\n",
    "print(id(b))"
   ]
  },
  {
   "cell_type": "code",
   "execution_count": null,
   "id": "cbb0305d-6000-4b82-ad64-4efe249b20af",
   "metadata": {},
   "outputs": [],
   "source": [
    "id(1)"
   ]
  },
  {
   "cell_type": "code",
   "execution_count": null,
   "id": "f6ad1e33-412d-42e4-91cf-f89a6670f634",
   "metadata": {},
   "outputs": [],
   "source": [
    "a=9.1\n",
    "id(a)"
   ]
  },
  {
   "cell_type": "code",
   "execution_count": null,
   "id": "436a1f47-ca23-48fe-919a-f0707b20395d",
   "metadata": {},
   "outputs": [],
   "source": [
    "# Data types- none, numeric, list, set, tuple, dictionary, string, range."
   ]
  },
  {
   "cell_type": "code",
   "execution_count": null,
   "id": "60ee580d-d6eb-402f-8cf2-32be87cc804c",
   "metadata": {},
   "outputs": [],
   "source": [
    "type(a)"
   ]
  },
  {
   "cell_type": "code",
   "execution_count": null,
   "id": "ba270f25-b53f-4832-bd84-d23042e1f25b",
   "metadata": {},
   "outputs": [],
   "source": [
    "num=2.5\n",
    "type(num)"
   ]
  },
  {
   "cell_type": "code",
   "execution_count": null,
   "id": "5c05f102-68f0-4076-8c37-53f42fcb3ffd",
   "metadata": {},
   "outputs": [],
   "source": [
    "num=5\n",
    "type(num)"
   ]
  },
  {
   "cell_type": "code",
   "execution_count": null,
   "id": "483adf88-fc8e-40bf-9842-70a1b9a51860",
   "metadata": {},
   "outputs": [],
   "source": [
    "num=6+9j\n",
    "type(num)"
   ]
  },
  {
   "cell_type": "code",
   "execution_count": null,
   "id": "6e81969e-8df0-4e2a-bec0-c4708c90aab3",
   "metadata": {},
   "outputs": [],
   "source": [
    "a=5.6\n",
    "b=int(a)\n",
    "type(b)\n",
    "b"
   ]
  },
  {
   "cell_type": "code",
   "execution_count": null,
   "id": "3758c4c1-a0dc-4085-b439-1b5d6ed9da13",
   "metadata": {},
   "outputs": [],
   "source": [
    "k=float(b)\n",
    "k"
   ]
  },
  {
   "cell_type": "code",
   "execution_count": null,
   "id": "5df2e518-4501-4271-a6cc-981e4ea11b8d",
   "metadata": {},
   "outputs": [],
   "source": [
    "k=6\n",
    "c=complex(b,k);\n",
    "c"
   ]
  },
  {
   "cell_type": "code",
   "execution_count": null,
   "id": "80f556ec-5f17-4c69-9c09-cf3d3ff9f318",
   "metadata": {},
   "outputs": [],
   "source": [
    "b<k"
   ]
  },
  {
   "cell_type": "code",
   "execution_count": null,
   "id": "36b931aa-84e9-469e-8e77-08c2fe42b7be",
   "metadata": {},
   "outputs": [],
   "source": [
    "bool=b<k"
   ]
  },
  {
   "cell_type": "code",
   "execution_count": null,
   "id": "a1a2955c-9f36-4c32-b7a0-15048ab4b1a0",
   "metadata": {},
   "outputs": [],
   "source": [
    "bool"
   ]
  },
  {
   "cell_type": "code",
   "execution_count": null,
   "id": "6f0168b4-d6d8-4264-aaeb-0571d5f93e5f",
   "metadata": {},
   "outputs": [],
   "source": [
    "result=b<k"
   ]
  },
  {
   "cell_type": "code",
   "execution_count": null,
   "id": "1ac9050a-ecac-4601-8b7c-bcbe65ae98ab",
   "metadata": {},
   "outputs": [],
   "source": [
    "result"
   ]
  },
  {
   "cell_type": "code",
   "execution_count": null,
   "id": "9b6556a6-9491-452a-934e-e88e45a04099",
   "metadata": {},
   "outputs": [],
   "source": [
    "type(result)"
   ]
  },
  {
   "cell_type": "code",
   "execution_count": null,
   "id": "5d34307e-15f6-42d1-ba91-eda59fdb2e3e",
   "metadata": {},
   "outputs": [],
   "source": [
    "int(True)"
   ]
  },
  {
   "cell_type": "code",
   "execution_count": null,
   "id": "a9ec9869-ce88-451f-8344-995e38987023",
   "metadata": {},
   "outputs": [],
   "source": [
    "int(False)"
   ]
  },
  {
   "cell_type": "code",
   "execution_count": null,
   "id": "8a06ad1f-4c27-4092-8312-c859cb159990",
   "metadata": {},
   "outputs": [],
   "source": [
    "lst=[1,2,3,4]\n",
    "type(lst)"
   ]
  },
  {
   "cell_type": "code",
   "execution_count": null,
   "id": "8970c2bb-d93c-48d0-bfad-04c11dad45fd",
   "metadata": {},
   "outputs": [],
   "source": [
    "s={1,2,3,4,4}\n",
    "type(s)"
   ]
  },
  {
   "cell_type": "code",
   "execution_count": null,
   "id": "c31e0b9f-f56a-4641-8fab-76d09ffcbd7d",
   "metadata": {},
   "outputs": [],
   "source": [
    "tup=(1,2,3,4,4)\n",
    "type(tup)"
   ]
  },
  {
   "cell_type": "code",
   "execution_count": null,
   "id": "672857cb-ed13-4810-8aa5-b0409ec5a699",
   "metadata": {},
   "outputs": [],
   "source": [
    "str=\"navin\"\n",
    "type(str)"
   ]
  },
  {
   "cell_type": "code",
   "execution_count": null,
   "id": "45a05b3d-b7c5-46a9-9049-f7fde52307b3",
   "metadata": {},
   "outputs": [],
   "source": [
    "st=\"navin\"\n",
    "type(st)"
   ]
  },
  {
   "cell_type": "code",
   "execution_count": null,
   "id": "df08d287-5515-4dcb-b8e8-976aba40c0b1",
   "metadata": {},
   "outputs": [],
   "source": [
    "st='a'\n",
    "type(st)"
   ]
  },
  {
   "cell_type": "code",
   "execution_count": null,
   "id": "6ed70382-47f8-4c28-adc6-1488159b8a1d",
   "metadata": {},
   "outputs": [],
   "source": [
    "range(10)"
   ]
  },
  {
   "cell_type": "code",
   "execution_count": null,
   "id": "13dabb21-a206-4b9b-ab83-a7d884f442e5",
   "metadata": {},
   "outputs": [],
   "source": [
    "list(range(10))"
   ]
  },
  {
   "cell_type": "code",
   "execution_count": null,
   "id": "5f84887d-45d5-4777-a411-4b93a6e76968",
   "metadata": {},
   "outputs": [],
   "source": [
    "list(range(0,11,2))"
   ]
  },
  {
   "cell_type": "code",
   "execution_count": null,
   "id": "46a570e4-5383-446c-9e65-478b23b70dab",
   "metadata": {},
   "outputs": [],
   "source": [
    "type(range(100))"
   ]
  },
  {
   "cell_type": "code",
   "execution_count": null,
   "id": "f4d80d81-b7bf-454f-8eb6-0a8f4b1897e3",
   "metadata": {},
   "outputs": [],
   "source": [
    "dic={1:\"one\",2:\"two\",3:\"three\",4:\"four\"}"
   ]
  },
  {
   "cell_type": "code",
   "execution_count": null,
   "id": "17ac5578-3680-4463-9052-2006fca1776c",
   "metadata": {},
   "outputs": [],
   "source": [
    "dic"
   ]
  },
  {
   "cell_type": "code",
   "execution_count": null,
   "id": "52800c8f-81c3-4a1b-b489-1e9fe0cb6185",
   "metadata": {},
   "outputs": [],
   "source": [
    "dic.keys()"
   ]
  },
  {
   "cell_type": "code",
   "execution_count": null,
   "id": "d1af4f63-50de-4bf7-a9eb-acb2161595cd",
   "metadata": {},
   "outputs": [],
   "source": [
    "dic.values()"
   ]
  },
  {
   "cell_type": "code",
   "execution_count": null,
   "id": "118e5b83-5daf-42e4-b9f4-29bac842c57e",
   "metadata": {},
   "outputs": [],
   "source": [
    "dic.value()"
   ]
  },
  {
   "cell_type": "code",
   "execution_count": null,
   "id": "29fa3789-839b-4d9a-99d2-d8ffe30996c1",
   "metadata": {},
   "outputs": [],
   "source": [
    "dic[1]"
   ]
  },
  {
   "cell_type": "code",
   "execution_count": null,
   "id": "b145111b-5918-428e-a0a4-878c93a4ffd4",
   "metadata": {},
   "outputs": [],
   "source": [
    "dic.get(5,'No key in dic')"
   ]
  },
  {
   "cell_type": "code",
   "execution_count": null,
   "id": "8d73ca1f-999f-4681-8a5a-9775c826d637",
   "metadata": {},
   "outputs": [],
   "source": [
    "help()"
   ]
  },
  {
   "cell_type": "code",
   "execution_count": null,
   "id": "aa073938-17f6-4234-aecd-1de76b0239e9",
   "metadata": {},
   "outputs": [],
   "source": [
    "# Arithmetic operator- +,-,*,**,/,//.\n",
    "# Assignment operator- \n",
    "# Unary operator- \n",
    "# Logical operator- \n",
    "# Relational operator-"
   ]
  },
  {
   "cell_type": "code",
   "execution_count": null,
   "id": "a034322a-83ac-4ab8-86ca-1ceac214a832",
   "metadata": {},
   "outputs": [],
   "source": [
    "a=2\n",
    "b=3\n",
    "a/b"
   ]
  },
  {
   "cell_type": "code",
   "execution_count": null,
   "id": "49aa46f7-3f5e-448c-b2bf-e4fc75976c4f",
   "metadata": {},
   "outputs": [],
   "source": [
    "a*=3\n",
    "a"
   ]
  },
  {
   "cell_type": "code",
   "execution_count": null,
   "id": "8ceb8658-7fac-49f2-bba4-a7d03d5b53ae",
   "metadata": {},
   "outputs": [],
   "source": [
    "a,b=5,6\n",
    "a"
   ]
  },
  {
   "cell_type": "code",
   "execution_count": null,
   "id": "26c00344-1948-4a50-8cf0-ae0336a5893b",
   "metadata": {},
   "outputs": [],
   "source": [
    "b"
   ]
  },
  {
   "cell_type": "code",
   "execution_count": null,
   "id": "659eec78-a620-4538-b6d6-c478ce301e2f",
   "metadata": {},
   "outputs": [],
   "source": [
    "a+b"
   ]
  },
  {
   "cell_type": "code",
   "execution_count": null,
   "id": "c083d75a-c1d7-4480-aa55-ab924f22b98d",
   "metadata": {},
   "outputs": [],
   "source": [
    "n=7\n",
    "n"
   ]
  },
  {
   "cell_type": "code",
   "execution_count": null,
   "id": "b1630713-bad9-4a60-b9b1-ba6ea17a680d",
   "metadata": {},
   "outputs": [],
   "source": [
    "-n"
   ]
  },
  {
   "cell_type": "code",
   "execution_count": null,
   "id": "8693ce32-e170-4f67-99be-093564ee8704",
   "metadata": {},
   "outputs": [],
   "source": [
    "n=-n"
   ]
  },
  {
   "cell_type": "code",
   "execution_count": null,
   "id": "765e0876-dcf6-47ef-b1bb-c81058ab9a35",
   "metadata": {},
   "outputs": [],
   "source": [
    "n"
   ]
  },
  {
   "cell_type": "code",
   "execution_count": null,
   "id": "7fa34406-6d5b-4f96-909d-d291b553bce3",
   "metadata": {},
   "outputs": [],
   "source": [
    "a=2\n",
    "b=1\n",
    "a<b"
   ]
  },
  {
   "cell_type": "code",
   "execution_count": null,
   "id": "47a6bf94-55c7-4719-9bca-2a8ba8238775",
   "metadata": {},
   "outputs": [],
   "source": [
    "b<a"
   ]
  },
  {
   "cell_type": "code",
   "execution_count": null,
   "id": "e9178578-ea29-4e82-b1c8-ef902f2450af",
   "metadata": {},
   "outputs": [],
   "source": [
    "a==b"
   ]
  },
  {
   "cell_type": "code",
   "execution_count": null,
   "id": "09c05df5-4490-4e6a-9974-fbad808a6b56",
   "metadata": {},
   "outputs": [],
   "source": [
    "a!=b"
   ]
  },
  {
   "cell_type": "code",
   "execution_count": null,
   "id": "b7def62b-a085-44cd-917b-df631ad28f0d",
   "metadata": {},
   "outputs": [],
   "source": [
    "a=6\n",
    "b=6\n",
    "a<=b"
   ]
  },
  {
   "cell_type": "code",
   "execution_count": null,
   "id": "3b78514e-6052-419e-b131-121b9f2a2d3a",
   "metadata": {},
   "outputs": [],
   "source": [
    "b<=a"
   ]
  },
  {
   "cell_type": "code",
   "execution_count": null,
   "id": "24f5a277-9cb0-49b0-886f-b6d80460485b",
   "metadata": {},
   "outputs": [],
   "source": [
    "a=2\n",
    "b=3\n",
    "a<3 and b<4"
   ]
  },
  {
   "cell_type": "code",
   "execution_count": null,
   "id": "bb0176f6-d369-43c1-a75d-2bdf73036433",
   "metadata": {},
   "outputs": [],
   "source": [
    "a=2\n",
    "b=3\n",
    "a<2 or b<4"
   ]
  },
  {
   "cell_type": "code",
   "execution_count": null,
   "id": "06812f63-0956-49a4-8209-b83fcf9d92e5",
   "metadata": {},
   "outputs": [],
   "source": [
    "x=True\n",
    "x"
   ]
  },
  {
   "cell_type": "code",
   "execution_count": null,
   "id": "c6268542-49f4-4283-8798-87791e45615f",
   "metadata": {},
   "outputs": [],
   "source": [
    "not x"
   ]
  },
  {
   "cell_type": "code",
   "execution_count": null,
   "id": "dc6a42ad-5f01-46b3-a566-7aba116f2d4f",
   "metadata": {},
   "outputs": [],
   "source": [
    "a= not x"
   ]
  },
  {
   "cell_type": "code",
   "execution_count": null,
   "id": "fa8c32bf-0c88-491e-a8e7-78090b76edfc",
   "metadata": {},
   "outputs": [],
   "source": [
    "a"
   ]
  },
  {
   "cell_type": "code",
   "execution_count": null,
   "id": "ae71f17a-be89-408c-bea4-93dc2c45a5e2",
   "metadata": {},
   "outputs": [],
   "source": [
    "# Binary- 0b__ bin(n)\n",
    "# Octal- 0o__ oct(n)\n",
    "# Decimal\n",
    "# Hexadecimal- 0x__ hex(n)"
   ]
  },
  {
   "cell_type": "code",
   "execution_count": null,
   "id": "643d7745-1838-4e68-afb6-b8b1c34a06a4",
   "metadata": {},
   "outputs": [],
   "source": [
    "bin(25)"
   ]
  },
  {
   "cell_type": "code",
   "execution_count": null,
   "id": "10ac7b91-e531-4b61-81cf-dc3eadfc7ead",
   "metadata": {},
   "outputs": [],
   "source": [
    "0b0101"
   ]
  },
  {
   "cell_type": "code",
   "execution_count": null,
   "id": "64b191f7-dcd5-426a-8b47-986a0268c6cc",
   "metadata": {},
   "outputs": [],
   "source": [
    "oct(25)"
   ]
  },
  {
   "cell_type": "code",
   "execution_count": null,
   "id": "39160015-c003-4714-86d6-ea6bdb505fa9",
   "metadata": {},
   "outputs": [],
   "source": [
    "hex(25)"
   ]
  },
  {
   "cell_type": "code",
   "execution_count": null,
   "id": "e6c79f84-518d-46dc-954f-9f59c9e455e8",
   "metadata": {},
   "outputs": [],
   "source": [
    "a=15\n",
    "b=12\n",
    "x=(a//4+b**3) and (b%4!=0)\n",
    "x"
   ]
  },
  {
   "cell_type": "code",
   "execution_count": null,
   "id": "d3a06153-7131-43b0-af6b-12653ada15e0",
   "metadata": {},
   "outputs": [],
   "source": [
    "# swap variables\n",
    "# Type-1\n",
    "a=5\n",
    "b=6\n",
    "temp=a\n",
    "a=b\n",
    "b=temp\n",
    "print(a,b)\n",
    "\n",
    "# Type-2\n",
    "a=5\n",
    "b=6\n",
    "a=a+b # 11\n",
    "b=a-b # 5\n",
    "a=a-b # 6\n",
    "print(a,b)\n",
    "\n",
    "# Type-3\n",
    "a=5\n",
    "b=6\n",
    "a=a^b\n",
    "b=a^b\n",
    "a=a^b\n",
    "print(a,b)\n",
    "\n",
    "# Type-4\n",
    "a=5\n",
    "b=6\n",
    "a,b=b,a\n",
    "print(a,b)"
   ]
  },
  {
   "cell_type": "code",
   "execution_count": null,
   "id": "94071ec0-265b-4a21-87f1-27dbe8cb37cf",
   "metadata": {},
   "outputs": [],
   "source": [
    "d={1:\"a\",2:\"b\",3:\"c\",4:\"d\"}\n",
    "d.get(5,\"none\")"
   ]
  },
  {
   "cell_type": "code",
   "execution_count": null,
   "id": "00afafc3-6744-4ea3-b076-4db6eb419d44",
   "metadata": {},
   "outputs": [],
   "source": [
    "a=1\n",
    "a"
   ]
  },
  {
   "cell_type": "code",
   "execution_count": null,
   "id": "3069cc5b-1325-479f-a1fb-a73047aa4243",
   "metadata": {},
   "outputs": [],
   "source": [
    "~a # complement a= -(a+1)"
   ]
  },
  {
   "cell_type": "code",
   "execution_count": null,
   "id": "45059a09-1390-4f64-be2c-c284fd15b7d3",
   "metadata": {},
   "outputs": [],
   "source": [
    "~-12"
   ]
  },
  {
   "cell_type": "code",
   "execution_count": null,
   "id": "9b30716f-a359-49e4-8a20-89044a76a396",
   "metadata": {},
   "outputs": [],
   "source": [
    "a=1<1 or 2<3\n",
    "a"
   ]
  },
  {
   "cell_type": "code",
   "execution_count": null,
   "id": "d91fa88f-f57f-4251-9be5-150dd3e6b493",
   "metadata": {},
   "outputs": [],
   "source": [
    "# Bitwise AND operator\n",
    "# 0 0 0\n",
    "# 0 1 0\n",
    "# 1 0 0\n",
    "# 1 1 1\n",
    "2 & 3"
   ]
  },
  {
   "cell_type": "code",
   "execution_count": null,
   "id": "5518b644-dfa3-4e41-9519-b93595791330",
   "metadata": {},
   "outputs": [],
   "source": [
    "# Bitwise OR operator\n",
    "# 0 0 0\n",
    "# 0 1 1\n",
    "# 1 0 1\n",
    "# 1 1 1\n",
    "2 | 3"
   ]
  },
  {
   "cell_type": "code",
   "execution_count": null,
   "id": "5e08cf08-672f-482a-838b-c28412411447",
   "metadata": {},
   "outputs": [],
   "source": [
    "# Bitwise ^ operator\n",
    "# 0 0 0\n",
    "# 0 1 1\n",
    "# 1 0 1\n",
    "# 1 1 0\n",
    "2 ^ 3"
   ]
  },
  {
   "cell_type": "code",
   "execution_count": null,
   "id": "792b23c3-bca3-4e5e-9588-6fe52bf0d357",
   "metadata": {},
   "outputs": [],
   "source": [
    "a=2"
   ]
  },
  {
   "cell_type": "code",
   "execution_count": null,
   "id": "20b3497e-26cd-4df1-a553-23235fdf0672",
   "metadata": {},
   "outputs": [],
   "source": [
    "a"
   ]
  },
  {
   "cell_type": "code",
   "execution_count": null,
   "id": "4bdccb2d-22b1-448c-be31-22195508e47b",
   "metadata": {},
   "outputs": [],
   "source": [
    "a=float(a)"
   ]
  },
  {
   "cell_type": "code",
   "execution_count": null,
   "id": "f4eaf14b-5765-42db-a70c-1b4d905b8118",
   "metadata": {},
   "outputs": [],
   "source": [
    "a"
   ]
  },
  {
   "cell_type": "code",
   "execution_count": null,
   "id": "14bc1f96-2aa6-4806-bbc5-b1680897486e",
   "metadata": {},
   "outputs": [],
   "source": [
    "a=complex(a)"
   ]
  },
  {
   "cell_type": "code",
   "execution_count": null,
   "id": "2dd2fa5e-48eb-4bbf-94a2-12b25b033460",
   "metadata": {},
   "outputs": [],
   "source": [
    "a"
   ]
  },
  {
   "cell_type": "code",
   "execution_count": null,
   "id": "dd788585-7fb3-4963-b142-8a81deca80b2",
   "metadata": {},
   "outputs": [],
   "source": [
    "a=bool(a)"
   ]
  },
  {
   "cell_type": "code",
   "execution_count": null,
   "id": "c310b6ff-f1bf-46ae-82de-696adac198c3",
   "metadata": {},
   "outputs": [],
   "source": [
    "a=not a"
   ]
  },
  {
   "cell_type": "code",
   "execution_count": null,
   "id": "28b99ae9-500f-4c95-95c6-375b92e4763a",
   "metadata": {},
   "outputs": [],
   "source": [
    "not a"
   ]
  },
  {
   "cell_type": "code",
   "execution_count": null,
   "id": "20ed7520-1363-43b4-8648-48b9038f8eed",
   "metadata": {},
   "outputs": [],
   "source": [
    "a=not a"
   ]
  },
  {
   "cell_type": "code",
   "execution_count": null,
   "id": "458de7c3-e962-4024-90d6-a5e4d4558ef8",
   "metadata": {},
   "outputs": [],
   "source": [
    "a"
   ]
  },
  {
   "cell_type": "code",
   "execution_count": null,
   "id": "509667be-1ae3-4b1a-b4ee-3d636de59f58",
   "metadata": {},
   "outputs": [],
   "source": [
    "10<<2"
   ]
  },
  {
   "cell_type": "code",
   "execution_count": null,
   "id": "341f94d8-587b-4cff-abe7-c5045344a47c",
   "metadata": {},
   "outputs": [],
   "source": [
    "10>>2"
   ]
  },
  {
   "cell_type": "code",
   "execution_count": null,
   "id": "35ec2175-4e0c-44d2-8873-93a60db3d8e5",
   "metadata": {},
   "outputs": [],
   "source": [
    "10<<4"
   ]
  },
  {
   "cell_type": "code",
   "execution_count": null,
   "id": "a27c40ed-f24f-4fa2-ba77-8bdfb4b23e02",
   "metadata": {},
   "outputs": [],
   "source": [
    "print(10<<4)\n",
    "print(10<<6)\n",
    "print(10>>2)\n",
    "print(10>>6)"
   ]
  },
  {
   "cell_type": "code",
   "execution_count": null,
   "id": "4a5ba931-3874-4ab1-8f71-71681a587e9e",
   "metadata": {},
   "outputs": [],
   "source": [
    "x=sqrt(4)"
   ]
  },
  {
   "cell_type": "code",
   "execution_count": null,
   "id": "eb8e4a3b-46df-489c-9584-0965eaddfd30",
   "metadata": {},
   "outputs": [],
   "source": [
    "# Importing math package"
   ]
  },
  {
   "cell_type": "code",
   "execution_count": null,
   "id": "aea10597-f390-44ac-84e8-29276c837a1e",
   "metadata": {},
   "outputs": [],
   "source": [
    "import math as m\n",
    "a=m.sqrt(4)"
   ]
  },
  {
   "cell_type": "code",
   "execution_count": null,
   "id": "db02a1cf-6f35-4743-bbb1-fe1d7416fd30",
   "metadata": {},
   "outputs": [],
   "source": [
    "a"
   ]
  },
  {
   "cell_type": "code",
   "execution_count": null,
   "id": "609501d1-0437-4eff-98a4-c28f68ed023b",
   "metadata": {},
   "outputs": [],
   "source": [
    "m.sqrt(25)"
   ]
  },
  {
   "cell_type": "code",
   "execution_count": null,
   "id": "4f8d35b7-3b15-430c-bc1d-b8a46c123bc9",
   "metadata": {},
   "outputs": [],
   "source": [
    "m.sqrt(15)"
   ]
  },
  {
   "cell_type": "code",
   "execution_count": null,
   "id": "cc1609e4-5efc-4aa9-9d30-68369a4ca866",
   "metadata": {},
   "outputs": [],
   "source": [
    "print(m.floor(2.9))"
   ]
  },
  {
   "cell_type": "code",
   "execution_count": null,
   "id": "b40ed389-d714-451a-ac50-5c3c1996804a",
   "metadata": {},
   "outputs": [],
   "source": [
    "print(m.ceil(2.2))"
   ]
  },
  {
   "cell_type": "code",
   "execution_count": null,
   "id": "7a50d994-e2c0-40c0-be14-d564bd311ef8",
   "metadata": {},
   "outputs": [],
   "source": [
    "m.pow(2,3)"
   ]
  },
  {
   "cell_type": "code",
   "execution_count": null,
   "id": "aea6232c-c333-4aef-ba3f-7ac804c70d9a",
   "metadata": {},
   "outputs": [],
   "source": [
    "m.pi"
   ]
  },
  {
   "cell_type": "code",
   "execution_count": null,
   "id": "5f9f8001-5210-44d1-b423-8acb7074a2c5",
   "metadata": {},
   "outputs": [],
   "source": [
    "m.e"
   ]
  },
  {
   "cell_type": "code",
   "execution_count": null,
   "id": "bceae96f-9e71-4754-bc6a-065c590bace3",
   "metadata": {},
   "outputs": [],
   "source": [
    "a=[m.pi,m.e]"
   ]
  },
  {
   "cell_type": "code",
   "execution_count": null,
   "id": "9824f43d-4521-486d-9ace-00d1b4815443",
   "metadata": {},
   "outputs": [],
   "source": [
    "a=sum(a)"
   ]
  },
  {
   "cell_type": "code",
   "execution_count": null,
   "id": "7e064147-4918-4a67-a063-ef2b5d0db699",
   "metadata": {},
   "outputs": [],
   "source": [
    "a"
   ]
  },
  {
   "cell_type": "code",
   "execution_count": null,
   "id": "94c4ad3f-98fd-4971-bdc3-aa18d170b783",
   "metadata": {},
   "outputs": [],
   "source": [
    "pow(2,3)"
   ]
  },
  {
   "cell_type": "code",
   "execution_count": null,
   "id": "fb9a93e1-ed18-47f5-9a78-9a028a604b84",
   "metadata": {},
   "outputs": [],
   "source": [
    "m.pow(2,3)"
   ]
  },
  {
   "cell_type": "code",
   "execution_count": null,
   "id": "c0d2fa3e-38f5-4270-9699-4478f8981ceb",
   "metadata": {},
   "outputs": [],
   "source": [
    "m.sqrt(16)"
   ]
  },
  {
   "cell_type": "code",
   "execution_count": null,
   "id": "fc8d0f12-e9f4-46fd-bb0b-5be8dde8ac98",
   "metadata": {},
   "outputs": [],
   "source": [
    "m.pow(2,3)"
   ]
  },
  {
   "cell_type": "code",
   "execution_count": null,
   "id": "0e873311-0931-4dad-a6c3-85c0ddbd4bd5",
   "metadata": {},
   "outputs": [],
   "source": [
    "help('math')"
   ]
  },
  {
   "cell_type": "code",
   "execution_count": null,
   "id": "a25d52de-5b2a-4575-bb36-f7fc1e20243e",
   "metadata": {},
   "outputs": [],
   "source": [
    "a=m.log(4,2)"
   ]
  },
  {
   "cell_type": "code",
   "execution_count": null,
   "id": "d728be2f-bbfc-4d9f-a8ad-7b1870d470ba",
   "metadata": {},
   "outputs": [],
   "source": [
    "a"
   ]
  },
  {
   "cell_type": "code",
   "execution_count": null,
   "id": "21406e51-17e2-4a2b-8348-a54b1a6579c9",
   "metadata": {},
   "outputs": [],
   "source": [
    "print(7<<2)\n",
    "print(125 | 256)\n",
    "print(652^125)\n",
    "print((288<<2)>>(26//6))"
   ]
  },
  {
   "cell_type": "code",
   "execution_count": null,
   "id": "56f188ca-76b6-440b-87ef-07e3f4fd62d5",
   "metadata": {},
   "outputs": [],
   "source": [
    "652^125"
   ]
  },
  {
   "cell_type": "code",
   "execution_count": null,
   "id": "ef916971-a891-4433-85b0-097399b12fe7",
   "metadata": {},
   "outputs": [],
   "source": [
    "m.lcm(654,652)"
   ]
  },
  {
   "cell_type": "code",
   "execution_count": null,
   "id": "e47c6ee7-9305-4c92-b058-016f14787dbe",
   "metadata": {},
   "outputs": [],
   "source": [
    "# extension- .py\n",
    "# cmd- go in folder than python namefie.py (argv[1] argv[2].....argv[n])"
   ]
  },
  {
   "cell_type": "code",
   "execution_count": null,
   "id": "e0b662a7-ce89-4e1c-bbf0-a52208326f54",
   "metadata": {},
   "outputs": [],
   "source": [
    "# 1. sqrt(25)- square root\n",
    "# 2. pow(a,b)- power a^b\n",
    "# 3. floor(2.3)- equal to 2\n",
    "# 4. ceil(2.6)- equal to 3\n",
    "# 5. log(a,b)-  log a with base b"
   ]
  },
  {
   "cell_type": "code",
   "execution_count": null,
   "id": "afc52d9d-36c7-4e68-92e2-d8042ecc0107",
   "metadata": {},
   "outputs": [],
   "source": [
    "a=eval(input())\n",
    "#b=int(input())\n",
    "#c=a+b\n",
    "print(a)"
   ]
  },
  {
   "cell_type": "code",
   "execution_count": null,
   "id": "cbec0db0-15a9-493a-b40d-55bd8ed2ae01",
   "metadata": {},
   "outputs": [],
   "source": [
    "# input method in python\n",
    "# input() by datatypes int(), float(), str(), eval() etc.\n",
    "# if we use cmd to take output ((i) by input function, (ii) using import sys as s (s.argv[1]))"
   ]
  },
  {
   "cell_type": "code",
   "execution_count": null,
   "id": "544f26be-5c98-4a18-b285-5cf361e2a385",
   "metadata": {},
   "outputs": [],
   "source": [
    "# a=int(input(\"Enter a\"))\n",
    "# b=int(input(\"Enter b\"))\n",
    "# c=int(input(\"Enter c\"))\n",
    "\n",
    "# import sys as s\n",
    "# a=int(s.argv[1])\n",
    "# b=int(s.argv[2])\n",
    "# c=int(s.argv[3])\n",
    "# print(a*b*c)"
   ]
  },
  {
   "cell_type": "code",
   "execution_count": null,
   "id": "edb432b8-42cc-40a9-b610-823393e64af5",
   "metadata": {},
   "outputs": [],
   "source": [
    "# if statement say's suite(block). \n",
    "if True:\n",
    "    print(\"hello\")\n",
    "print(\"bye\")      "
   ]
  },
  {
   "cell_type": "code",
   "execution_count": null,
   "id": "e8a91e39-4dfd-46db-9794-de65a297bc1a",
   "metadata": {},
   "outputs": [],
   "source": [
    "# if\n",
    "x=5\n",
    "r=x%2\n",
    "if r==0:\n",
    "    print(\"even\")\n",
    "if r==1:\n",
    " print(\"odd\")\n",
    "    \n",
    "print(\"bye\")"
   ]
  },
  {
   "cell_type": "code",
   "execution_count": null,
   "id": "bf38b6eb-2b3e-488b-ac92-8ac0de081b84",
   "metadata": {},
   "outputs": [],
   "source": [
    "# if else\n",
    "x=4\n",
    "if x%2==0:\n",
    "    print(\"even\")\n",
    "else:\n",
    "    print(\"odd\")"
   ]
  },
  {
   "cell_type": "code",
   "execution_count": null,
   "id": "e3be7b4a-d946-423a-bee0-ad3a0a349bd4",
   "metadata": {},
   "outputs": [],
   "source": [
    "# nested if\n",
    "x=4\n",
    "if x%2==0:\n",
    "    print(\"four\")\n",
    "    if x<5:\n",
    "        print(\"small\")\n",
    "    else:\n",
    "        print(\"not small\")\n",
    "else:\n",
    "    print(\"not four\")\n",
    "    if x<5:\n",
    "        print(\"small\")\n",
    "    else:\n",
    "        print(\"not small\")        "
   ]
  },
  {
   "cell_type": "code",
   "execution_count": null,
   "id": "891a3cd8-f1c8-4931-b043-5ef165e643e6",
   "metadata": {},
   "outputs": [],
   "source": [
    "# if elif else\n",
    "x=4\n",
    "if x==1:\n",
    "    print(\"one\")\n",
    "elif x==2:\n",
    "    print(\"two\")\n",
    "elif x==3:\n",
    "    print(\"three\")\n",
    "elif x==4:\n",
    "    print(\"four\")\n",
    "else:\n",
    "    print(\"no option\")"
   ]
  },
  {
   "cell_type": "code",
   "execution_count": null,
   "id": "beb37dc2-c501-4bd4-8685-2557120550dd",
   "metadata": {},
   "outputs": [],
   "source": [
    "x=int(input(\"Enter x\"))\n",
    "if x>=0:\n",
    "    print(\"positive\")\n",
    "else:\n",
    "    print(\"negative\")"
   ]
  },
  {
   "cell_type": "code",
   "execution_count": null,
   "id": "60e3dc7a-6c18-4685-8e1b-85684441126b",
   "metadata": {},
   "outputs": [],
   "source": [
    "a=2\n",
    "b=1\n",
    "c=3\n",
    "if a>b and a>c:\n",
    "    print(\"a is greater\")\n",
    "elif b>a and b>c:\n",
    "    print(\"b is greater\")\n",
    "else:\n",
    "    print(\"c is greater\")"
   ]
  },
  {
   "cell_type": "code",
   "execution_count": null,
   "id": "ef3b61f5-27e8-453b-a199-89340f27b171",
   "metadata": {},
   "outputs": [],
   "source": [
    "# while loop\n",
    "# nested while loop\n",
    "\n",
    "# x=int(input(\"Enter x\"))\n",
    "# a=int(input(\"Enter a\"))\n",
    "# while x<a:\n",
    "#     print(\"telusko\")\n",
    "#     x=x+1\n",
    "\n",
    "x=int(input(\"Enter x\"))\n",
    "a=int(input(\"Enter a\"))\n",
    "while x<a:\n",
    "    print(\"Telusko\",end=\"\")\n",
    "    j=1\n",
    "    while j<=4:\n",
    "        print(\"rocks\",end=\"\")\n",
    "        j=j+1\n",
    "    x=x+1\n",
    "    print()"
   ]
  },
  {
   "cell_type": "code",
   "execution_count": null,
   "id": "c53123e4-b64b-41b5-b24a-4b1fec0cb233",
   "metadata": {},
   "outputs": [],
   "source": [
    "x=1\n",
    "while x<=100:\n",
    "    if x%3!=0 and x%5!=0:\n",
    "        print(x,end=\" \")\n",
    "    x=x+1   "
   ]
  },
  {
   "cell_type": "code",
   "execution_count": null,
   "id": "853c5680-a810-4f6e-823e-2e4bf1151ed6",
   "metadata": {},
   "outputs": [],
   "source": [
    "i=1\n",
    "while i<=4:\n",
    "    j=1\n",
    "    while j<=5:\n",
    "        print(\"#\",end=\" \")\n",
    "        j=j+1\n",
    "    i=i+1\n",
    "    print()"
   ]
  },
  {
   "cell_type": "code",
   "execution_count": null,
   "id": "981e8223-3502-4084-905a-5e96b183881c",
   "metadata": {},
   "outputs": [],
   "source": [
    "x=['navin',1,2]\n",
    "x"
   ]
  },
  {
   "cell_type": "code",
   "execution_count": null,
   "id": "49ef9b49-89d2-4905-8868-e305a6e984d1",
   "metadata": {},
   "outputs": [],
   "source": [
    "for i in x:\n",
    "    print(i)"
   ]
  },
  {
   "cell_type": "code",
   "execution_count": null,
   "id": "2df0436d-ae2c-42f2-b113-49a7df2001d3",
   "metadata": {},
   "outputs": [],
   "source": [
    "a='navin'\n",
    "for i in a:\n",
    "    print(i)"
   ]
  },
  {
   "cell_type": "code",
   "execution_count": null,
   "id": "afa694a2-817d-4a69-a9a5-586e74d1d784",
   "metadata": {},
   "outputs": [],
   "source": [
    "for i in ['navin',1,2]:\n",
    "    print(i)"
   ]
  },
  {
   "cell_type": "code",
   "execution_count": null,
   "id": "9bcff021-f2df-4f28-b236-8a71a87208c4",
   "metadata": {},
   "outputs": [],
   "source": [
    "for i in range (21,10,-2):\n",
    "    print(i)"
   ]
  },
  {
   "cell_type": "code",
   "execution_count": null,
   "id": "4be6a621-7bcf-4258-87b4-e8fe30f3dc7b",
   "metadata": {},
   "outputs": [],
   "source": [
    "## Print all the perfect square number between 1 nad 500 ##"
   ]
  },
  {
   "cell_type": "code",
   "execution_count": null,
   "id": "69552bc7-6bf9-4004-8136-b1625f767a35",
   "metadata": {},
   "outputs": [],
   "source": [
    "# break, continue, pass\n",
    "av=5\n",
    "x=int(input(\"Enter how many candies you want\"))\n",
    "i=1\n",
    "while i<=x:\n",
    "    if i>av:\n",
    "        print(\"candies out of stock\")\n",
    "        break\n",
    "    print(\"candies \",i)\n",
    "    i=i+1"
   ]
  },
  {
   "cell_type": "code",
   "execution_count": null,
   "id": "93720fa0-4c9c-4652-9e32-b2681e2a897e",
   "metadata": {},
   "outputs": [],
   "source": [
    "for i in range(1,101):\n",
    "    if i%3==0 or i%5==0:\n",
    "        continue\n",
    "    print(i,end=\" \")    "
   ]
  },
  {
   "cell_type": "code",
   "execution_count": null,
   "id": "dbd9a7fd-cf9b-48f4-954e-f06b139e5d9a",
   "metadata": {},
   "outputs": [],
   "source": [
    "for i in range(1,100):\n",
    "    if i%2!=0:\n",
    "        pass\n",
    "    else:\n",
    "        print(i,end=\" \")"
   ]
  },
  {
   "cell_type": "code",
   "execution_count": null,
   "id": "2ed80059-283e-4b51-9f7b-c57489309678",
   "metadata": {},
   "outputs": [],
   "source": [
    "for i in range(5):\n",
    "    if i==3:\n",
    "        pass\n",
    "    print(i)"
   ]
  },
  {
   "cell_type": "code",
   "execution_count": null,
   "id": "2b7cae65-849c-4d81-8e28-2b29275151b0",
   "metadata": {},
   "outputs": [],
   "source": [
    "a=0\n",
    "b=1\n",
    "print(a,b,end=\" \")\n",
    "for i in range(2,51):\n",
    "    c=a+b\n",
    "    a=b\n",
    "    b=c\n",
    "    print(c,end=\" \")"
   ]
  },
  {
   "cell_type": "code",
   "execution_count": null,
   "id": "f11b3b45-43da-454c-b49c-281adb91ce5e",
   "metadata": {},
   "outputs": [],
   "source": [
    "x=int(input(\"Enter x for check prime or not\"))\n",
    "# count=0\n",
    "# for i in range(1,x+1):\n",
    "#     if x%i==0:\n",
    "#         count=count+1\n",
    "# if count==2:\n",
    "#     print(x,\"is prime number.\")\n",
    "# else:\n",
    "#     print(x,\"is not prime number.\")\n",
    "\n",
    "# flag=0\n",
    "# for i in range(2,x):\n",
    "#     if x%i==0:\n",
    "#         flag=1\n",
    "#         break\n",
    "# if flag==1:\n",
    "#     print(x,\"is not prime number.\")\n",
    "# else:\n",
    "#     print(x,\"is prime number.\")\n",
    "\n",
    "# for i in range(2,x):\n",
    "#     if x%i==0:\n",
    "#         print(x,\"is not prime number.\")\n",
    "#         break\n",
    "# else:\n",
    "#     print(x,\"is prime number.\")"
   ]
  },
  {
   "cell_type": "code",
   "execution_count": null,
   "id": "ab8bac1f-e4ff-454e-98c6-6e5b376d66bc",
   "metadata": {},
   "outputs": [],
   "source": [
    "for i in range(0,4):\n",
    "    for j in range(0,4):\n",
    "        print(\"#\",end=\" \")\n",
    "    print()\n",
    "    \n",
    "for i in range(0,4):\n",
    "    for j in range(0,i+1):\n",
    "        print(\"#\",end=\" \")\n",
    "    print()\n",
    "\n",
    "for i in range(4,0,-1):\n",
    "    for j in range (0,i):\n",
    "        print(\"#\",end=\" \")\n",
    "    print()    "
   ]
  },
  {
   "cell_type": "code",
   "execution_count": null,
   "id": "b1f6d4ce-9e7d-4496-8d20-9f12d1c09e84",
   "metadata": {},
   "outputs": [],
   "source": [
    "for i in range(0,4):\n",
    "    k=i+1\n",
    "    for j in range(4,i,-1):\n",
    "        print(k,end=\" \")\n",
    "        k=k+1\n",
    "    print()    "
   ]
  },
  {
   "cell_type": "code",
   "execution_count": null,
   "id": "6f8f4f11-8c5d-4ec5-9869-e320354e1569",
   "metadata": {},
   "outputs": [],
   "source": [
    "## A P Q R\n",
    "# A B Q R\n",
    "# A B C R \n",
    "# A B C D ##\n",
    "for i in range(0,4):\n",
    "    if i==0:\n",
    "        print(\"A P Q R\")\n",
    "    elif i==1:\n",
    "        print(\"A B Q R\")\n",
    "    elif i==2:\n",
    "        print(\"A B C R \")\n",
    "    else:\n",
    "        print(\"A B C D\")"
   ]
  },
  {
   "cell_type": "code",
   "execution_count": null,
   "id": "69fb2ca7-0aa8-49c7-8bef-22826e5eda14",
   "metadata": {},
   "outputs": [],
   "source": [
    "# for else(use only with break)\n",
    "nums=[1,2,3,4,6]\n",
    "for i in nums:\n",
    "    if i%5==0:\n",
    "        print(i)\n",
    "        break\n",
    "else:\n",
    "    print(\"not found\")"
   ]
  },
  {
   "cell_type": "code",
   "execution_count": null,
   "id": "fd3e768a-9860-4237-acd7-0bbdb3727888",
   "metadata": {},
   "outputs": [],
   "source": [
    "# array\n",
    "import array as arr\n",
    "value=arr.array('i',[1,2,3,4,5])\n",
    "print(value)\n",
    "print(value[1])\n",
    "print(value.buffer_info())\n",
    "value[1]=23\n",
    "print(value)\n",
    "# value.reverse()\n",
    "# print(value)"
   ]
  },
  {
   "cell_type": "code",
   "execution_count": null,
   "id": "5e3def1a-a58e-4170-be77-2800540d79fb",
   "metadata": {},
   "outputs": [],
   "source": [
    "# for i in range(5):\n",
    "#     print(value[i])\n",
    "\n",
    "# for i in range(len(value)):\n",
    "#     print(value[i])\n",
    "\n",
    "# for i in value:\n",
    "#     print(i)\n",
    "\n",
    "newvalue=arr.array(value.typecode,(a for a in value))\n",
    "# print(newvalue)\n",
    "\n",
    "for i in newvalue:\n",
    "    print(i)"
   ]
  },
  {
   "cell_type": "code",
   "execution_count": null,
   "id": "5eef358a-e23f-4375-a6ea-1abacce84854",
   "metadata": {},
   "outputs": [],
   "source": [
    "# Q1\n",
    "# import array as a\n",
    "# first=a.array('i',[4,5,3,6,2,1])\n",
    "# for i in range(len(first)):\n",
    "#     for j in range(len(first)):\n",
    "#         if(first[i]<first[j]):\n",
    "#             temp=first[i];\n",
    "#             first[i]=first[j];\n",
    "#             first[j]=temp;\n",
    "            \n",
    "# for i in range(len(first)):\n",
    "#     print(first[i],end=\" \")\n",
    "\n",
    "# Q2\n",
    "# x=int(input(\"Enter x\"))\n",
    "# fac=1\n",
    "# for i in range(1,x+1):\n",
    "#     fac=fac*i\n",
    "# print(fac)    "
   ]
  },
  {
   "cell_type": "code",
   "execution_count": null,
   "id": "961fdc40-0d54-417e-b001-aa1fb4be862c",
   "metadata": {},
   "outputs": [],
   "source": [
    "import array as a\n",
    "value=a.array('i',[])\n",
    "x=int(input(\"Enter x\"))\n",
    "for i in range(x):\n",
    "    num=int(input(\"Enter number\"))\n",
    "    value.append(num)\n",
    "\n",
    "n=int(input(\"Enter value for search in value array\"))\n",
    "# for i in range(x):\n",
    "#     if value[i]==n:\n",
    "#         print(n,\"found at index\",i)\n",
    "\n",
    "# value.index(n)\n",
    "\n"
   ]
  },
  {
   "cell_type": "code",
   "execution_count": null,
   "id": "8241f904-1ce4-4846-b9a5-50d9eb88ed37",
   "metadata": {},
   "outputs": [],
   "source": [
    "##\n",
    "import array as a\n",
    "arr=a.array('i',[])\n",
    "x=int(input(\"Enter x\"))\n",
    "for i in range(x):\n",
    "    num=int(input(\"Enter num to append in arr\"))\n",
    "    arr.append(num)\n",
    "\n",
    "index=int(input(\"Enter index number\"))\n",
    "# arr.pop(index)\n",
    "# print(arr)\n",
    "\n",
    "for i in range(x):\n",
    "    if index==i:\n",
    "        continue\n",
    "    print(arr[i],end=\" \")\n",
    "##"
   ]
  },
  {
   "cell_type": "code",
   "execution_count": null,
   "id": "5c3701cd-7ac8-4190-a35e-08463a846909",
   "metadata": {},
   "outputs": [],
   "source": [
    "import array as a\n",
    "arr=a.array('i',[])\n",
    "x=int(input(\"Enter x\"))\n",
    "for i in range(x):\n",
    "    num=int(input(\"Enter num to append in arr\"))\n",
    "    arr.append(num)\n",
    "\n",
    "# arr.reverse()\n",
    "# print(arr)\n",
    "\n",
    "# for i in range(x-1):\n",
    "#     temp=arr[x-1]\n",
    "#     for j in range(x-1,i-1,-1):\n",
    "#         arr[j]=arr[j-1]\n",
    "#     arr[i]=temp\n",
    "    \n",
    "# for k in range(x):\n",
    "#     print(arr[k],end=\" \")\n",
    "# print()\n",
    "\n",
    "for i in range(x-1,-1, -1):\n",
    "    print(arr[i],end=\"\")"
   ]
  },
  {
   "cell_type": "code",
   "execution_count": null,
   "id": "d0366278-3da6-496c-9905-faf1bdfbbcbf",
   "metadata": {},
   "outputs": [],
   "source": [
    "# numpy\n",
    "# importing array not work in 2D or more dimensions(except 1D dimension)\n",
    "# import array as a\n",
    "# arr=a.array('i',[[1,2,3],[4,5,6]])\n",
    "# print(arr)\n",
    "\n",
    "import numpy as np\n",
    "arr=np.array([1,2,3,4],int)\n",
    "print(arr)"
   ]
  },
  {
   "cell_type": "code",
   "execution_count": null,
   "id": "e2680793-5b2f-4a25-b4bd-a28d18ab7579",
   "metadata": {},
   "outputs": [],
   "source": [
    "import numpy as np\n",
    "# array(array value, datatype)\n",
    "# arr=np.array([1,2,3,4,5.8],int)\n",
    "# print(arr.dtype)\n",
    "# print(arr)\n",
    "\n",
    "# linspace(start, end, number of times)\n",
    "# default number of times= 50\n",
    "# arr=np.linspace(0,15)\n",
    "# print(arr)\n",
    "\n",
    "# arange(start, end, steps)\n",
    "# default steps=1\n",
    "# arr=np.arange(1,15)\n",
    "# print(arr)\n",
    "\n",
    "# logspace(start, end, steps)\n",
    "# default steps= 50\n",
    "# arr=np.logspace(0,40,5)\n",
    "# print(arr)\n",
    "\n",
    "# zeroes(number of times, datatype)\n",
    "# arr=np.zeros(5)\n",
    "# print(arr)\n",
    "\n",
    "# ones(number of times, datatype)\n",
    "# arr=np.ones(5)\n",
    "# print(arr)"
   ]
  },
  {
   "cell_type": "code",
   "execution_count": null,
   "id": "2657370e-316e-46d4-a9ac-f1349cbc17f1",
   "metadata": {},
   "outputs": [],
   "source": [
    "from numpy import *\n",
    "# import numpy as np\n",
    "# vectorized operation\n",
    "# arr1=np.array([1,2,3,4])\n",
    "# arr2=np.array([5,6,7,8])\n",
    "# arr1=arr1+1\n",
    "# arr3=arr1+arr2\n",
    "# print(arr3)\n",
    "\n",
    "# some functions\n",
    "# sin(), cos(), log(), sqrt(), sum(), min(), max(), sort(), unique(), concatenate([arr1,arr2])(2 or more)\n",
    "# shalllow copy= view()(only change address but, values is same)\n",
    "# deep copy= copy()(both address and values change according operation)\n",
    "arr1=array([1,2,3,4])\n",
    "arr2=arr1.copy()\n",
    "arr1[1]=11\n",
    "print(arr1)\n",
    "print(arr2)\n",
    "print(id(arr1))\n",
    "print(id(arr2))"
   ]
  },
  {
   "cell_type": "code",
   "execution_count": null,
   "id": "f591ed17-af72-42a9-8c50-070cc9b4f681",
   "metadata": {},
   "outputs": [],
   "source": [
    "from numpy import *;\n",
    "# arr1=array([\n",
    "#             [1,2,3,4,5,6],\n",
    "#             [4,5,6,1,2,3]\n",
    "#     ])\n",
    "\n",
    "# arr2=arr1.flatten()\n",
    "# arr3=arr1.reshape(2,2,3)\n",
    "# dtype, ndim, shape, size\n",
    "m1=matrix('1 2 3; 4 5 6; 7 8 9')\n",
    "m2=matrix('1 2 3; 4 5 6; 7 8 9')\n",
    "# print(m)\n",
    "# print(diagonal(m))\n",
    "# print(m.min())\n",
    "# print(m.max())\n",
    "# print(m.sum())\n",
    "print(m1 * m2)"
   ]
  },
  {
   "cell_type": "code",
   "execution_count": null,
   "id": "87a4586b-090b-4cfc-92fc-772a6d7172e9",
   "metadata": {},
   "outputs": [],
   "source": [
    "## array create in 2D or 3D\n",
    "from numpy import *\n",
    "arr1=array([\n",
    "             [1,2,3],\n",
    "             [4,5,6],\n",
    "             [7,8,9]\n",
    "      ])\n",
    "arr2=array([\n",
    "             [1,2,3],\n",
    "             [4,5,6],\n",
    "             [7,8,9]\n",
    "      ])\n",
    "for i in range(len(arr1)):\n",
    "    for j in range(len(arr2[i])):\n",
    "        sum=0\n",
    "        for k in range(len(arr2)):\n",
    "            sum=sum+(arr1[i][k]*arr2[k][j])\n",
    "        print(sum,end=\" \")\n",
    "    print()\n",
    "##   "
   ]
  },
  {
   "cell_type": "code",
   "execution_count": null,
   "id": "9b99ed78-11fc-47ac-b2ba-9020f56c726d",
   "metadata": {},
   "outputs": [],
   "source": [
    "# functions\n",
    "# def means define function\n",
    "def fun(a,b,f):\n",
    "    print(\"function\")\n",
    "    c=a+b\n",
    "    d=a-b\n",
    "    e=\"addsub\"\n",
    "    return c,d,e,f\n",
    "\n",
    "# calling function\n",
    "x=fun(5,4,\"abcdef\")\n",
    "print(x)"
   ]
  },
  {
   "cell_type": "code",
   "execution_count": null,
   "id": "48aeff87-6815-4347-8bbd-ffb6bf91430e",
   "metadata": {},
   "outputs": [],
   "source": [
    "# def fun(a):\n",
    "#     print(id(a))\n",
    "#     a=4\n",
    "#     print(id(a))\n",
    "#     print(a)\n",
    "\n",
    "# a=10\n",
    "# print(id(a))\n",
    "# fun(a)\n",
    "# print(a)\n",
    "\n",
    "def fun(lis):\n",
    "    print(id(lis))\n",
    "    lis[1]=90\n",
    "    print(id(lis))\n",
    "    print(lis)\n",
    "\n",
    "lis=[1,2,3,4]\n",
    "print(id(lis))\n",
    "fun(lis)\n",
    "print(lis)"
   ]
  },
  {
   "cell_type": "code",
   "execution_count": null,
   "id": "44f6fe70-90ca-4bc4-be8e-61df2d11ad77",
   "metadata": {},
   "outputs": [],
   "source": [
    "# a,b is formal argument\n",
    "# 1,2 is actual argument\n",
    "# position, keyword, default, variable length\n",
    "def add(a,*b):\n",
    "    c=a\n",
    "    for i in range(len(b)):\n",
    "        c=c+b[i]\n",
    "    print(c)\n",
    "    \n",
    "add(20,21,22,23,24)"
   ]
  },
  {
   "cell_type": "code",
   "execution_count": null,
   "id": "092713e7-f33a-4bb7-a61c-a43c737fefd5",
   "metadata": {},
   "outputs": [],
   "source": [
    "# **kwargs(keyword variable length arguments)\n",
    "def fun(name,**data):\n",
    "    for i in data.items():\n",
    "        print(i)\n",
    "\n",
    "fun(\"navin\",age=28,city=\"mumbai\",phoneno=1234567809)\n",
    "## if we take only data of one or required keywords(**kwargs)"
   ]
  },
  {
   "cell_type": "code",
   "execution_count": null,
   "id": "31cd8031-1131-4318-abb1-08ac62678872",
   "metadata": {},
   "outputs": [],
   "source": [
    "# global keyword\n",
    "# globals()['a'] function\n",
    "a=10\n",
    "# b=20\n",
    "print(id(a))\n",
    "def fun():\n",
    "    a=9\n",
    "    b=20\n",
    "    x=globals()['b']\n",
    "    # print(id(x))\n",
    "    print(a,x)\n",
    "    globals()['b']=99\n",
    "\n",
    "fun()\n",
    "print(b)\n",
    "print(a)"
   ]
  },
  {
   "cell_type": "code",
   "execution_count": null,
   "id": "1fa09403-0476-4c97-a1df-7ef0b4dac5f9",
   "metadata": {},
   "outputs": [],
   "source": [
    "# pass list in function\n",
    "# \"Even:{}\".format(even)\n",
    "def number(lis):\n",
    "    even=0\n",
    "    odd=0\n",
    "    for i in lis:\n",
    "        if i%2==0:\n",
    "            even=even+1\n",
    "        else:\n",
    "            odd=odd+1\n",
    "    return even,odd\n",
    "\n",
    "lis=[5,2,68,9,99,58,30,10,44,55]\n",
    "result=number(lis)\n",
    "print(\"Even:{}\\nodd:{}\".format(result[0],result[1]));"
   ]
  },
  {
   "cell_type": "code",
   "execution_count": null,
   "id": "b722049d-1110-4353-a710-96c53e0d0eb3",
   "metadata": {},
   "outputs": [],
   "source": [
    "def name(lis):\n",
    "    greater=0\n",
    "    less=0\n",
    "    for i in lis:\n",
    "       if len(i)>5:\n",
    "           greater=greater+1\n",
    "       else:\n",
    "           less=less+1\n",
    "    return greater,less\n",
    "\n",
    "lis=[]\n",
    "x=int(input(\"Enter x\"))\n",
    "for i in range(x):\n",
    "    n=str(input(\"Enter name \"))\n",
    "    lis.append(n)\n",
    "result=name(lis)\n",
    "print(\"greater length names:{} and less length names:{}\".format(result[0],result[1]))"
   ]
  },
  {
   "cell_type": "code",
   "execution_count": null,
   "id": "27bef96a-384e-4310-ba61-e57222056d8e",
   "metadata": {},
   "outputs": [],
   "source": [
    "# fibanacci sequence\n",
    "# x=int(input(\"Enter x\"))\n",
    "a=0\n",
    "# b=1\n",
    "# print(a,end=\" \")\n",
    "# print(b,end=\" \")\n",
    "# for i in range(2,x):\n",
    "#     c=a+b\n",
    "#     a=b\n",
    "#     b=c\n",
    "#     print(c,end=\" \")\n",
    "\n",
    "# lis=[]\n",
    "# lis.append(0)\n",
    "# lis.append(1)\n",
    "# for i in range(2,x):\n",
    "#     value=lis[i-1]+lis[i-2]\n",
    "#     lis.append(value)\n",
    "\n",
    "# print(lis)\n",
    "\n",
    "# lis[]\n",
    "# def fab(x):\n",
    "#     lis=[]\n",
    "#     if x==1:\n",
    "#         lis.append(0)\n",
    "#         return lis\n",
    "#     lis.append(0)\n",
    "#     lis.append(1)\n",
    "#     index=0\n",
    "#     for i in range(2,x):\n",
    "#         value=lis[i-1]+lis[i-2]\n",
    "#         lis.append(value)\n",
    "#         # if value<100:\n",
    "#         #     index=i\n",
    "#         # if value<100:\n",
    "#         #     lis.append(value)\n",
    "#         # else:\n",
    "#         #     return lis\n",
    "#     # temp=lis[index]\n",
    "#     # lis[index]=lis[x-1]\n",
    "#     # lis[x-1]=temp\n",
    "#     return lis\n",
    "\n",
    "# x=int(input(\"Enter x\"))\n",
    "# result=fab(x)\n",
    "# print(result)"
   ]
  },
  {
   "cell_type": "code",
   "execution_count": null,
   "id": "feae8cf9-71a7-4834-98b8-755769685e02",
   "metadata": {},
   "outputs": [],
   "source": [
    "# factorial\n",
    "# fab=1\n",
    "# x=int(input(\"Enter x\"))\n",
    "# for i in range(1,x+1):\n",
    "#     fab=fab*i;\n",
    "# print(fab)\n",
    "\n",
    "def fa(x):\n",
    "    fab=1\n",
    "    for i in range(1,x+1):\n",
    "        fab=fab*i\n",
    "    return fab\n",
    "\n",
    "x=int(input(\"Enter x\"))\n",
    "print(fa(x))"
   ]
  },
  {
   "cell_type": "code",
   "execution_count": null,
   "id": "32e8a5b2-9756-4d1f-ad0b-dde970026c2f",
   "metadata": {},
   "outputs": [],
   "source": [
    "# Recursion\n",
    "# import sys as s\n",
    "# s.setrecursionlimit=5000\n",
    "# print(s.getrecursionlimit())\n",
    "def fab(n):\n",
    "    if n==0:\n",
    "        return 1\n",
    "    return n*fab(n-1)\n",
    "\n",
    "x=int(input(\"Enter x\"))\n",
    "fab(x)"
   ]
  },
  {
   "cell_type": "code",
   "execution_count": null,
   "id": "6b518244-cfd7-4c2d-9c34-c875892af542",
   "metadata": {},
   "outputs": [],
   "source": [
    "# lambda anonymous function\n",
    "fun=lambda a,b:a+b\n",
    "result=fun(9,2)\n",
    "print(result)"
   ]
  },
  {
   "cell_type": "code",
   "execution_count": null,
   "id": "71f3931f-c912-4c57-bb93-77919369a394",
   "metadata": {},
   "outputs": [],
   "source": [
    "# filter, map, reduce\n",
    "num=[2,5,3,7,5,8,10,9]\n",
    "even=list(filter(lambda n:n%2==0,num))\n",
    "print(even)"
   ]
  },
  {
   "cell_type": "code",
   "execution_count": null,
   "id": "44dccf67-6f67-441d-a8d0-108c86bbc04b",
   "metadata": {},
   "outputs": [],
   "source": [
    "a=lambda x:x*x\n",
    "result=a(2)\n",
    "print(result)"
   ]
  },
  {
   "cell_type": "code",
   "execution_count": null,
   "id": "bac8b467-7888-479a-8e61-44364d5bb483",
   "metadata": {},
   "outputs": [],
   "source": [
    "# Filter, Map, Reduce\n",
    "from functools import reduce\n",
    "nums=[1,3,2,5,4,9,7,8,6]\n",
    "evens=list(filter(lambda a:a%2==0,nums))\n",
    "doubles=list(map(lambda a:a*2,evens))\n",
    "sum=reduce(lambda a,b:a+b,doubles)\n",
    "print(evens)\n",
    "print(doubles)\n",
    "print(sum)"
   ]
  },
  {
   "cell_type": "code",
   "execution_count": null,
   "id": "3274567a-546c-4f5d-8636-188b2fc14e30",
   "metadata": {},
   "outputs": [],
   "source": [
    "# decorators\n",
    "# def div(a,b):\n",
    "#     return a/b/\n",
    "# div(2,4)\n",
    "\n",
    "# def add(a,b):\n",
    "#     return a/b\n",
    "# def fun(func):\n",
    "#     def inner(a,b):\n",
    "#         if a<b:\n",
    "#             a,b=b,a\n",
    "#         return func(a,b)\n",
    "#     return inner\n",
    "\n",
    "# div=fun(add)\n",
    "# div(2,4)\n",
    "\n",
    "# def name():\n",
    "#     print(\"Alice\")\n",
    "\n",
    "# def hello(func):\n",
    "#     def inner():\n",
    "#         print(\"hello\")\n",
    "#         name()\n",
    "#     return inner\n",
    "\n",
    "# div=hello(name)"
   ]
  },
  {
   "cell_type": "code",
   "execution_count": null,
   "id": "a48b5f98-874e-44bb-9bee-23c78cd41b64",
   "metadata": {},
   "outputs": [],
   "source": [
    "# Modules\n",
    "# from file import *\n",
    "\n",
    "# a=10\n",
    "# b=5\n",
    "# result=mul(a,b)\n",
    "# print(result)\n",
    "\n",
    "# def add(a,b):\n",
    "#     return a+b\n",
    "\n",
    "# def sub(a,b):\n",
    "#     return a-b\n",
    "\n",
    "# def mul(a,b):\n",
    "#     return a*b\n",
    "\n",
    "# def div(a,b):\n",
    "#     return a/b"
   ]
  },
  {
   "cell_type": "code",
   "execution_count": null,
   "id": "18a0259a-4dbd-42a2-8f02-1d705b373afc",
   "metadata": {},
   "outputs": [],
   "source": [
    "# __name__\n",
    "# first name is __main__\n",
    "print(__name__)\n",
    "# one model by connect two files\n",
    "# file-1\n",
    "from file import add\n",
    "def fun1():\n",
    "    add()\n",
    "    print(\"function1\")\n",
    "\n",
    "def fun2():\n",
    "    print(\"function2\")\n",
    "\n",
    "def main():\n",
    "    fun1()\n",
    "    fun2()\n",
    "main()\n",
    "# file-2\n",
    "def add():\n",
    "    print(\"result of add\")\n",
    "\n",
    "def sub():\n",
    "    print(\"result of substraction\")\n",
    "\n",
    "def main():\n",
    "    add()\n",
    "    sub()\n",
    "if __name__==\"__main__\":\n",
    "    main()\n"
   ]
  },
  {
   "cell_type": "code",
   "execution_count": null,
   "id": "446876f8-9c20-44dc-98f0-c6f32be09403",
   "metadata": {},
   "outputs": [],
   "source": [
    "# Object Oriented Programming\n",
    "# class and object\n",
    "# self, class.function(c), c.function()\n",
    "class computer:\n",
    "    def config(self):\n",
    "        print(\"i5, 16gb, 1Tb\")\n",
    "\n",
    "c=computer()\n",
    "d=computer()\n",
    "# computer.config(c)\n",
    "# computer.config(d)\n",
    "\n",
    "c.config()\n",
    "d.config()"
   ]
  },
  {
   "cell_type": "code",
   "execution_count": null,
   "id": "9fa4f3be-de88-4f3a-87c9-6646afe16cd2",
   "metadata": {},
   "outputs": [],
   "source": [
    "# __init__ method\n",
    "class computer:\n",
    "    def __init__(self,core,gen):\n",
    "        self.core=core\n",
    "        self.gen=gen\n",
    "        \n",
    "    def config(self):\n",
    "        print(self.core,self.gen)\n",
    "\n",
    "c=computer('i5','12th')\n",
    "d=computer('i7','13th')\n",
    "\n",
    "c.config()\n",
    "d.config()"
   ]
  },
  {
   "cell_type": "code",
   "execution_count": null,
   "id": "f4aa46f4-7ec2-4d96-8993-143a4c62561a",
   "metadata": {},
   "outputs": [],
   "source": [
    "# constructor, self\n",
    "# self is used to choice the path where we doing any type of changes,updatation, any operation.\n",
    "class computer:\n",
    "    def __init__(self):\n",
    "        self.name=\"navin\"\n",
    "        self.id=10\n",
    "\n",
    "    def update(self):\n",
    "        self.id=12\n",
    "\n",
    "    def compare(self,num):\n",
    "        if self.id==num.id:\n",
    "            return True\n",
    "        else:\n",
    "            return False\n",
    "\n",
    "a=computer()\n",
    "b=computer()\n",
    "\n",
    "# if a.compare(b):\n",
    "#     print(\"true same\")\n",
    "\n",
    "a.name=\"rashi\"\n",
    "a.id=11\n",
    "\n",
    "if a.compare(b):\n",
    "    print(\"true same\")\n",
    "else:\n",
    "    print(\"false same\")\n",
    "a.update()\n",
    "\n",
    "print(a.name,a.id)\n",
    "print(b.name,b.id)"
   ]
  },
  {
   "cell_type": "code",
   "execution_count": null,
   "id": "349f7ca0-f528-431b-b0f0-b92532390697",
   "metadata": {},
   "outputs": [],
   "source": [
    "# Type of varaibles\n",
    "# Instance variable= variable changes the value for only for particular object\n",
    "# class(static) variable= variable changes for all object of the class\n",
    "class car:\n",
    "    wheel=4 # class(static) variable\n",
    "    def __init__(self):\n",
    "        # instance variable\n",
    "        self.mil=10\n",
    "        self.com=\"BMW\"\n",
    "\n",
    "c1=car()\n",
    "c2=car()\n",
    "\n",
    "c1.mil=5\n",
    "c2.wheel=5\n",
    "\n",
    "print(c1.com,c1.mil,c1.wheel)\n",
    "print(c2.com,c2.mil,c2.wheel)"
   ]
  },
  {
   "cell_type": "code",
   "execution_count": null,
   "id": "4f385eef-0e1b-4815-af69-aa890da27826",
   "metadata": {},
   "outputs": [],
   "source": [
    "# Types of methods\n",
    "# Instance method= use only the fetch value or calculate (Accessor method=getter, mutator method=setter)\n",
    "# class method= use for class variable with @classmethod (cls.name)\n",
    "# static method= use as simple function with @staticmethod\n",
    "class student:\n",
    "    school=\"Telusko\"\n",
    "    def __init__(self,m1,m2,m3):\n",
    "        self.m1=m1\n",
    "        self.m2=m2\n",
    "        self.m3=m3\n",
    "\n",
    "    def avgfun(self):\n",
    "        lis=[]\n",
    "        lis.append(self.m1)\n",
    "        lis.append(self.m2)\n",
    "        lis.append(self.m3)\n",
    "        return sum(lis)/len(lis)\n",
    "\n",
    "    @classmethod\n",
    "    def info(cls):\n",
    "        information=cls.school\n",
    "        return information\n",
    "\n",
    "    @staticmethod\n",
    "    def method():\n",
    "        return \"return\"\n",
    "        \n",
    "a=student(34,41,49)\n",
    "b=student(21,49,50)\n",
    "print(a.avgfun())\n",
    "print(student.info())\n",
    "print(a.method())"
   ]
  },
  {
   "cell_type": "code",
   "execution_count": null,
   "id": "079c3250-a96e-4c8e-a555-d3a3b258d3c7",
   "metadata": {},
   "outputs": [],
   "source": [
    "# inner class\n",
    "# if describe inner method by in __init__ method of outer class \n",
    "       # self.lep=self.laptop()\n",
    "       # a.lap.brand or a.lap.desc()\n",
    "# describe outer.inner() now same outer class\n",
    "class student:\n",
    "    def __init__(self,name,rollno):\n",
    "        self.name=name\n",
    "        self.rollno=rollno\n",
    "        self.lap=self.laptop()\n",
    "\n",
    "    def show(self):\n",
    "        print(self.name,self.rollno)\n",
    "        self.lap.desc()\n",
    "\n",
    "    class laptop:\n",
    "        def __init__(self):\n",
    "            self.brand=\"hp\"\n",
    "            self.cpu=\"i5\"\n",
    "            self.ram=8\n",
    "\n",
    "        def desc(self):\n",
    "            print(self.brand,self.cpu,self.ram)\n",
    "\n",
    "a=student(\"navin\",21)\n",
    "a.show()\n",
    "\n",
    "b=student.laptop()\n",
    "b.desc()"
   ]
  },
  {
   "cell_type": "code",
   "execution_count": null,
   "id": "73f0b0fc-cf2d-427d-bc57-7bd28a12ad91",
   "metadata": {},
   "outputs": [],
   "source": [
    "# inheritance- single, multi-level, multiple\n",
    "class A:\n",
    "    def feature1(safe):\n",
    "        print(\"feature 1 function\")\n",
    "        \n",
    "    def feature2(safe):\n",
    "        print(\"feature 2 function\")\n",
    "\n",
    "class B:\n",
    "    def feature3(safe):\n",
    "        print(\"feature 3 function\")\n",
    "        \n",
    "    def feature4(safe):  \n",
    "        print(\"feature 4 function\")\n",
    "\n",
    "class C(A,B):\n",
    "    def feature5(safe):\n",
    "        print(\"feature 5 function\")\n",
    "        \n",
    "    def feature6(safe):\n",
    "        print(\"feature 6 function\")\n",
    "\n",
    "a1=A()\n",
    "a1.feature1()\n",
    "a1.feature2()\n",
    "\n",
    "print()\n",
    "\n",
    "b1=B()\n",
    "b1.feature3()\n",
    "b1.feature4()\n",
    "\n",
    "print()\n",
    "\n",
    "c1=C()\n",
    "c1.feature1()\n",
    "c1.feature2()\n",
    "c1.feature3()\n",
    "c1.feature4()\n",
    "c1.feature5()\n",
    "c1.feature6()"
   ]
  },
  {
   "cell_type": "code",
   "execution_count": null,
   "id": "b0509afd-a1d2-47f0-bb7b-dff34374fa60",
   "metadata": {},
   "outputs": [],
   "source": [
    "# behave of inheritance first in own class then find in parent class\n",
    "# use super method as method.name()\n",
    "# Method Resolution Order(MRO) is define in the multiple inheritance to the direction right to left\n",
    "class A:\n",
    "    def __init__(self):\n",
    "        print(\"A init method\")\n",
    "        \n",
    "    def feature1(safe):\n",
    "        print(\"feature 1 function\")\n",
    "        \n",
    "    def feature2(safe):\n",
    "        print(\"feature 2 function\")\n",
    "\n",
    "class B:\n",
    "    def __init__(self):\n",
    "        print(\"B init method\")\n",
    "        \n",
    "    def feature3(safe):\n",
    "        print(\"feature 3 function\")\n",
    "        \n",
    "    def feature4(safe):\n",
    "        print(\"feature 4 function\")\n",
    "\n",
    "class C(A,B):\n",
    "    def __init__(self):\n",
    "        super().__init__()\n",
    "        print(\"C init method\")\n",
    "        \n",
    "    def feature5(safe):\n",
    "        print(\"feature 5 function\")\n",
    "        \n",
    "    def feature6(safe):\n",
    "        print(\"feature 6 function\")\n",
    "\n",
    "a1=C()"
   ]
  },
  {
   "cell_type": "code",
   "execution_count": null,
   "id": "08f3ae17-996c-46fd-8a43-3829aafc3b83",
   "metadata": {},
   "outputs": [],
   "source": [
    "# polymorphism= many forms\n",
    "# Duck typing\n",
    "class pycharm:\n",
    "    def execute(self):\n",
    "        print(\"compiling\")\n",
    "        print(\"running\")\n",
    "\n",
    "class myeditor:\n",
    "    def execute(self):\n",
    "        print(\"spell check\")\n",
    "        print(\"convention check\")\n",
    "        print(\"compiling\")\n",
    "        print(\"running\")\n",
    "\n",
    "class laptop:\n",
    "    def code(self,ide):\n",
    "        ide.execute()\n",
    "\n",
    "a=laptop()\n",
    "b=myeditor()\n",
    "a.code(b)"
   ]
  },
  {
   "cell_type": "code",
   "execution_count": null,
   "id": "0ee99e50-5132-4de4-845e-ab413c66af24",
   "metadata": {},
   "outputs": [],
   "source": [
    "# __add__, __sub__, __mul__, __abs__ (magic methods) \n",
    "# a=5\n",
    "# b=10\n",
    "# print(a+b)\n",
    "# print(int.__add__(a,b))\n",
    "class student:\n",
    "    def __init__(self,m1,m2):\n",
    "        self.m1=m1\n",
    "        self.m2=m2\n",
    "\n",
    "    def a(self,num):\n",
    "        m1=self.m1+num.m1\n",
    "        m2=self.m2+num.m2\n",
    "        print(\"DD\")\n",
    "        return student(m1,m2)\n",
    "        # return s3\n",
    "\n",
    "s1=student(43,49)\n",
    "s2=student(50,43)\n",
    "print(s3.m1,s3.m2)"
   ]
  },
  {
   "cell_type": "code",
   "execution_count": null,
   "id": "5bca1612-f6e5-4099-9d5e-efa554b2867d",
   "metadata": {},
   "outputs": [],
   "source": [
    "class student:\n",
    "    def __init__(self,n1,n2):\n",
    "        self.n1=n1\n",
    "        self.n2=n2\n",
    "\n",
    "    def fun(self,num):\n",
    "        n1=self.n1+self.n2\n",
    "        n2=num.n1+num.n2\n",
    "        n3=student(n1,n2)\n",
    "        return n3\n",
    "        \n",
    "a=student(50,40)\n",
    "b=student(45,42)\n",
    "n3=a.fun(b)\n",
    "\n",
    "if n3.n1>n3.n2:\n",
    "    print(\"a student win\")\n",
    "else:\n",
    "    print(\"b student win\")"
   ]
  },
  {
   "cell_type": "code",
   "execution_count": null,
   "id": "5c4ca472-35f5-4a20-85de-2529ffc65009",
   "metadata": {},
   "outputs": [],
   "source": [
    "class student:\n",
    "    def __init__(self,n1,n2):\n",
    "        self.n1=n1\n",
    "        self.n2=n2\n",
    "\n",
    "    def __gt__(self,num):\n",
    "        n1=self.n1+self.n2\n",
    "        n2=num.n1+num.n2\n",
    "        n4=student(n1,n2)\n",
    "\n",
    "a=student(20,15)\n",
    "b=student(18,13)\n",
    "int"
   ]
  },
  {
   "cell_type": "code",
   "execution_count": null,
   "id": "555687f5-1ddd-4557-8481-ff4580b75ff9",
   "metadata": {},
   "outputs": [],
   "source": [
    "# method calls as first than second than do operation and return values to class __init__ method\n",
    "# perform operator same as funtion name\n",
    "# like value is print number but a,b not print so be use __str__() (a.__str__()) use return as single string one more than one.\n",
    "# class student:\n",
    "#     def __init__(self,m1,m2):\n",
    "#         self.m1=m1\n",
    "#         self.m2=m2\n",
    "\n",
    "#     def __add__(self,num):\n",
    "#         m1=self.m1+num.m1\n",
    "#         m2=self.m2+num.m2\n",
    "#         s3=student(m1,m2)\n",
    "#         return s3\n",
    "\n",
    "\n",
    "# a=student(40,50)\n",
    "# b=student(46,35)\n",
    "# s3=a+b\n",
    "# print(s3.m1)\n",
    "\n",
    "class student:\n",
    "    def __init__(self,m1,m2):\n",
    "        self.m1=m1\n",
    "        self.m2=m2\n",
    "\n",
    "    def __gt__(self,num):\n",
    "        a=self.m1+self.m2\n",
    "        b=num.m1+num.m2\n",
    "        if a>b:\n",
    "            return True\n",
    "        else:\n",
    "            return False\n",
    "\n",
    "    def __str__(self):\n",
    "        string=str(self.m1)+str(self.m2)\n",
    "        return string\n",
    "\n",
    "a=student(30,50)\n",
    "b=student(46,35)\n",
    "c=b>a\n",
    "if c:\n",
    "    print(\"true\")\n",
    "else:\n",
    "    print(\"false\")\n",
    "\n",
    "value=9\n",
    "print(value.__str__())\n",
    "\n",
    "print(a.__str__())\n",
    "print(a)\n",
    "# print(b.__str__())"
   ]
  },
  {
   "cell_type": "code",
   "execution_count": null,
   "id": "a2d605fe-ba4e-4c82-be52-9e6762f94f38",
   "metadata": {},
   "outputs": [],
   "source": [
    "# parameter, arguments,\n",
    "# method overloading, method overriding\n",
    "# class student:\n",
    "#     def __init__(self,m1,m2):\n",
    "#         self.m1=m1\n",
    "#         self.m2=m2\n",
    "#         # def sum\n",
    "#     def sum(self,a=None,b=None,c=None):\n",
    "#         s=0\n",
    "#         if a!=None and b!=None and c!=None:\n",
    "#             s=a+b+c\n",
    "#         elif a!=None and b!=None:\n",
    "#             s=a+b\n",
    "#         else:\n",
    "#             s=a\n",
    "#         return s\n",
    "        \n",
    "# s1=student(58,69)\n",
    "# print(s1.sum(1,2,3))\n",
    "\n",
    "class A:\n",
    "    def show(self):\n",
    "        print(\"A show\")\n",
    "        \n",
    "class B(A):\n",
    "    def show(self):\n",
    "        super().show()\n",
    "        print(\"B show\")\n",
    "\n",
    "s=B()\n",
    "s.show()"
   ]
  },
  {
   "cell_type": "code",
   "execution_count": 2,
   "id": "faf7eac0-16ba-424b-a240-45771ca5269b",
   "metadata": {},
   "outputs": [
    {
     "name": "stdout",
     "output_type": "stream",
     "text": [
      "solving bags\n",
      "desktop\n"
     ]
    }
   ],
   "source": [
    "# abstraction\n",
    "from abc import ABC, abstractmethod\n",
    "class A(ABC):\n",
    "    @abstractmethod\n",
    "    def process(self):\n",
    "        pass\n",
    "        \n",
    "    def fun(self):\n",
    "        print(\"hello\")\n",
    "        \n",
    "class B(A):\n",
    "    def process(self):\n",
    "        print(\"its running\")\n",
    "    # def fun(self):\n",
    "    #     print(\"self\")\n",
    "class D(A):\n",
    "    def write(self):\n",
    "        print(\"write\")\n",
    "    def process(self):\n",
    "        print(\"self D\")\n",
    "class desktop:\n",
    "    def process(self):\n",
    "        print(\"desktop\")\n",
    "class C:\n",
    "    def work(self,a):\n",
    "        print(\"solving bags\")\n",
    "        a.process()\n",
    "\n",
    "a=B()\n",
    "# a.process()\n",
    "# a.fun()\n",
    "d=D()\n",
    "b=C()\n",
    "des=desktop()\n",
    "b.work(des)"
   ]
  },
  {
   "cell_type": "code",
   "execution_count": 5,
   "id": "dda70c63-67e9-4b87-a6c8-2b6cc27b646d",
   "metadata": {},
   "outputs": [
    {
     "name": "stdout",
     "output_type": "stream",
     "text": [
      "<__main__.topten object at 0x000000DCF951BE60>\n",
      "1\n",
      "2\n",
      "3\n",
      "4\n",
      "5\n",
      "6\n",
      "7\n",
      "8\n",
      "9\n",
      "10\n"
     ]
    }
   ],
   "source": [
    "# num=[4,5,1,3]\n",
    "# it=iter(num)\n",
    "# print(it.__next__())\n",
    "# print(next(it))\n",
    "# iterator- __iter__(), __next__, next()\n",
    "class topten:\n",
    "    def __init__(self):\n",
    "        self.num=1\n",
    "    def __iter__(self):\n",
    "        print(self)\n",
    "        return self\n",
    "    def __next__(self):\n",
    "        if self.num<=10:\n",
    "            val=self.num\n",
    "            self.num=self.num+1\n",
    "            return val\n",
    "        else:\n",
    "            raise StopIteration\n",
    "\n",
    "value=topten()\n",
    "# print(value.__next__())\n",
    "# print(next(value))\n",
    "for i in value:\n",
    "    print(i)"
   ]
  },
  {
   "cell_type": "code",
   "execution_count": 15,
   "id": "38e2d6e4-a382-4b16-9588-e15e145bfb6c",
   "metadata": {},
   "outputs": [
    {
     "name": "stdout",
     "output_type": "stream",
     "text": [
      "1\n",
      "4\n",
      "9\n",
      "16\n",
      "25\n",
      "36\n",
      "49\n",
      "64\n",
      "81\n",
      "100\n"
     ]
    }
   ],
   "source": [
    "# generator- yield\n",
    "def fun():\n",
    "    i=1\n",
    "    while i<=10:\n",
    "       sq=i*i\n",
    "       yield sq\n",
    "       i=i+1\n",
    "\n",
    "value=fun()\n",
    "for i in value:\n",
    "    print(i)"
   ]
  },
  {
   "cell_type": "code",
   "execution_count": 28,
   "id": "1c8ef732-d1bb-4f61-9278-aaa0e6367fec",
   "metadata": {},
   "outputs": [
    {
     "name": "stdout",
     "output_type": "stream",
     "text": [
      "resource start\n",
      "2.5\n"
     ]
    },
    {
     "name": "stdin",
     "output_type": "stream",
     "text": [
      "Enter n value 2\n"
     ]
    },
    {
     "name": "stdout",
     "output_type": "stream",
     "text": [
      "2\n",
      "resource end\n"
     ]
    }
   ],
   "source": [
    "# exception handling\n",
    "a=5\n",
    "b=2\n",
    "try:\n",
    "    print(\"resource start\")\n",
    "    print(a/b)\n",
    "    n=int(input(\"Enter n value\"))\n",
    "    print(n)\n",
    "except Exception as a:\n",
    "    print(\"exception part is excepted\",a)\n",
    "finally:\n",
    "    print(\"resource end\")"
   ]
  },
  {
   "cell_type": "code",
   "execution_count": 5,
   "id": "24264ed6-4ea2-44f9-874e-88a3107590b5",
   "metadata": {},
   "outputs": [
    {
     "name": "stdout",
     "output_type": "stream",
     "text": [
      "Hello\n",
      "Hi\n",
      "Hello\n",
      "Hi\n",
      "Hello\n",
      "Hi\n",
      "Hello\n",
      "Hi\n",
      "Hello\n",
      "Hi\n",
      "Hello\n",
      "Hi\n",
      "Hello\n",
      "Hi\n",
      "Hello\n",
      "Hi\n",
      "Bye\n"
     ]
    }
   ],
   "source": [
    "# multithreading\n",
    "# no use of thread the main thread use only\n",
    "# (thread), run(), sleep(), join()\n",
    "from threading import *\n",
    "from time import sleep \n",
    "class A(Thread):\n",
    "    def run(self):\n",
    "        for i in range(8):\n",
    "            print(\"Hello\")\n",
    "            sleep(1)\n",
    "\n",
    "class B(Thread):\n",
    "    def run(self):\n",
    "        for i in range(8):\n",
    "            print(\"Hi\") \n",
    "            sleep(1)\n",
    "\n",
    "a=A()\n",
    "b=B()\n",
    "a.start()\n",
    "sleep(0.2)\n",
    "b.start()\n",
    "\n",
    "a.join()\n",
    "b.join()\n",
    "print(\"Bye\")"
   ]
  },
  {
   "cell_type": "code",
   "execution_count": 12,
   "id": "4cead67e-a00f-4b35-96aa-1397518ea01f",
   "metadata": {},
   "outputs": [
    {
     "name": "stdout",
     "output_type": "stream",
     "text": [
      "{\n",
      " \"cells\": [\n",
      "  {\n",
      "   \"cell_type\": \"code\",\n",
      "   \"execution_count\": null,\n",
      "   \"id\": \"b1d1ea13-dad0-48d6-9ce2-817a8f3ff3c6\",\n",
      "   \"metadata\": {},\n",
      "   \"outputs\": [],\n",
      "   \"source\": [\n",
      "    \"My name is Navin Reddy\\n\",\n",
      "    \"Telusko on Youtube\\n\",\n",
      "    \"Programming and Technology videos\\n\",\n",
      "    \"Corporate Trainer\\n\",\n",
      "    \"Mumbai\\n\",\n",
      "    \"Subscribers\\n\",\n",
      "    \"Asus Laptop\"\n",
      "   ]\n",
      "  }\n",
      " ],\n",
      " \"metadata\": {\n",
      "  \"kernelspec\": {\n",
      "   \"display_name\": \"Python 3 (ipykernel)\",\n",
      "   \"language\": \"python\",\n",
      "   \"name\": \"python3\"\n",
      "  },\n",
      "  \"language_info\": {\n",
      "   \"codemirror_mode\": {\n",
      "    \"name\": \"ipython\",\n",
      "    \"version\": 3\n",
      "   },\n",
      "   \"file_extension\": \".py\",\n",
      "   \"mimetype\": \"text/x-python\",\n",
      "   \"name\": \"python\",\n",
      "   \"nbconvert_exporter\": \"python\",\n",
      "   \"pygments_lexer\": \"ipython3\",\n",
      "   \"version\": \"3.12.1\"\n",
      "  }\n",
      " },\n",
      " \"nbformat\": 4,\n",
      " \"nbformat_minor\": 5\n",
      "}\n",
      "\n"
     ]
    }
   ],
   "source": [
    "f=open('untitled.ipynb','r')\n",
    "print(f.read())"
   ]
  },
  {
   "cell_type": "code",
   "execution_count": null,
   "id": "300f03f3-1ff6-42d9-a91c-ca1b4f3a1881",
   "metadata": {},
   "outputs": [],
   "source": [
    "# w= write in another file\n",
    "# a= append the write text in another file\n",
    "# read file=\n",
    "f=open(\"name\",'r')\n",
    "r.read()\n",
    "\n",
    "# write text in file=\n",
    "f=open(\"name\",'w')\n",
    "r.write()\n",
    "\n",
    "# use one file data in another file\n",
    "f=open('name','r')\n",
    "f1=open(\"name\",'w')\n",
    "for i in f:\n",
    "    f1.write(i)\n",
    "\n",
    "# image in binary code\n",
    "f=open(\"image name\",'rb')\n",
    "for i in f:\n",
    "    f.write(i)\n",
    "\n",
    "# image in binary code in image\n",
    "f=open('image name','rb')\n",
    "f1=open('image file','wb')\n",
    "for i in f:\n",
    "    f1.write(i)"
   ]
  },
  {
   "cell_type": "code",
   "execution_count": 19,
   "id": "d58fa995-432e-4ff1-9d3d-94f015adf297",
   "metadata": {},
   "outputs": [
    {
     "ename": "SyntaxError",
     "evalue": "invalid syntax (2742791499.py, line 1)",
     "output_type": "error",
     "traceback": [
      "\u001b[1;36m  Cell \u001b[1;32mIn[19], line 1\u001b[1;36m\u001b[0m\n\u001b[1;33m    a=# str\u001b[0m\n\u001b[1;37m      ^\u001b[0m\n\u001b[1;31mSyntaxError\u001b[0m\u001b[1;31m:\u001b[0m invalid syntax\n"
     ]
    }
   ],
   "source": [
    "# comment types\n",
    "comment is two types #, \"\"\"\n",
    "Spanning strings over multiple lines can be done using python’s triple quotes. \n",
    "It can also be used for long comments in code. Special characters like TABs, verbatim or NEWLINEs can also be used within the triple quotes. \n",
    "As the name suggests its syntax consists of three consecutive single or double-quotes.\n",
    " \n",
    "\n",
    "Syntax: “”” string””” or ”’ string”’\n",
    "\n",
    "Note: Triple quotes, according to official Python documentation are docstrings, or multi-line docstrings and are not considered comments. \n",
    "Anything inside triple quotes is read by the interpreter. When the interpreter encounters the hash symbol, it ignores everything after that. \n",
    "That is what a comment is defined to be."
   ]
  },
  {
   "cell_type": "code",
   "execution_count": null,
   "id": "ce53c264-1533-460b-b7f8-45d5e8f8c183",
   "metadata": {},
   "outputs": [],
   "source": [
    "# python is compiled or interpreted\n",
    "# python file -- compile -- byte code -- interept -- virtual machine\n",
    "# cpython\n",
    "# pypy\n",
    "# ironpython\n",
    "# jpython"
   ]
  },
  {
   "cell_type": "code",
   "execution_count": 3,
   "id": "457f56f9-1ef2-46be-9fe6-7ee9eed81339",
   "metadata": {},
   "outputs": [
    {
     "name": "stdin",
     "output_type": "stream",
     "text": [
      "Enter n 4\n",
      "Enter num 1\n",
      "Enter val 3\n",
      "Enter val 2\n",
      "Enter val 1\n",
      "Enter val 4\n"
     ]
    },
    {
     "name": "stdout",
     "output_type": "stream",
     "text": [
      "found 2\n"
     ]
    }
   ],
   "source": [
    "pos=-1\n",
    "def fun(n,lis,num):\n",
    "    for i in range(n):\n",
    "        if lis[i]==num:\n",
    "            globals()['pos']=i\n",
    "            return True\n",
    "    return False\n",
    "\n",
    "lis=[]\n",
    "n=int(input(\"Enter n\"))\n",
    "num=int(input(\"Enter num\"))\n",
    "for i in range(n):\n",
    "    val=int(input(\"Enter val\"))\n",
    "    lis.append(val)\n",
    "    \n",
    "if fun(n,lis,num):\n",
    "    print(\"found\",pos)\n",
    "else:\n",
    "    print(\"not found\")"
   ]
  },
  {
   "cell_type": "code",
   "execution_count": 14,
   "id": "a952bd72-cb43-42a7-95b5-a36fe0c3fc75",
   "metadata": {},
   "outputs": [
    {
     "name": "stdin",
     "output_type": "stream",
     "text": [
      "Enter n 4\n",
      "Enter num 6\n",
      "Enter val 2\n",
      "Enter val 4\n",
      "Enter val 6\n",
      "Enter val 8\n"
     ]
    },
    {
     "name": "stdout",
     "output_type": "stream",
     "text": [
      "yes\n",
      "found 2\n"
     ]
    }
   ],
   "source": [
    "pos=-1\n",
    "def fun(n,lis,num):\n",
    "    beg=0\n",
    "    end=n-1\n",
    "    while beg<=end:\n",
    "        mid=(beg+end)//2\n",
    "        if lis[mid]==num:\n",
    "            globals()['pos']=mid\n",
    "            return True\n",
    "        else:\n",
    "            if lis[mid]>num:\n",
    "                end=mid-1\n",
    "            else:\n",
    "                beg=mid+1\n",
    "    return False\n",
    "\n",
    "lis=[]\n",
    "n=int(input(\"Enter n\"))\n",
    "num=int(input(\"Enter num\"))\n",
    "for i in range(n):\n",
    "    val=int(input(\"Enter val\"))\n",
    "    lis.append(val)\n",
    "\n",
    "if fun(n,lis,num):\n",
    "    print(\"found\",pos)\n",
    "else:\n",
    "    print(\"not found\")"
   ]
  },
  {
   "cell_type": "code",
   "execution_count": 18,
   "id": "157ec44c-4211-47c1-9bbf-43d6c797a623",
   "metadata": {},
   "outputs": [
    {
     "name": "stdin",
     "output_type": "stream",
     "text": [
      "Enter n 6\n",
      "Enter val 39\n",
      "Enter val 59\n",
      "Enter val 32\n",
      "Enter val 51\n",
      "Enter val 11\n",
      "Enter val 10\n"
     ]
    },
    {
     "name": "stdout",
     "output_type": "stream",
     "text": [
      "[10, 11, 32, 39, 51, 59]\n"
     ]
    }
   ],
   "source": [
    "def fun(n,lis):\n",
    "    for i in range(n):\n",
    "        for j in range(0,(n-1)-i):\n",
    "            if lis[j]>lis[j+1]:\n",
    "                temp=lis[j]\n",
    "                lis[j]=lis[j+1]\n",
    "                lis[j+1]=temp\n",
    "    return lis\n",
    "\n",
    "lis=[]\n",
    "n=int(input(\"Enter n\"))\n",
    "for i in range(n):\n",
    "    val=int(input(\"Enter val\"))\n",
    "    lis.append(val)\n",
    "\n",
    "result=fun(n,lis)\n",
    "print(result)"
   ]
  },
  {
   "cell_type": "code",
   "execution_count": 22,
   "id": "fb7df4b0-cb75-4556-84b6-556b49ea072c",
   "metadata": {},
   "outputs": [
    {
     "name": "stdin",
     "output_type": "stream",
     "text": [
      "Enter n 6\n",
      "Enter val 30\n",
      "Enter val 42\n",
      "Enter val 11\n",
      "Enter val 17\n",
      "Enter val 7\n",
      "Enter val 34\n"
     ]
    },
    {
     "name": "stdout",
     "output_type": "stream",
     "text": [
      "[7, 11, 17, 30, 34, 42]\n"
     ]
    }
   ],
   "source": [
    "def fun(n,lis):\n",
    "    for i in range(n):\n",
    "        temp=lis[i]\n",
    "        index=i\n",
    "        for j in range(i+1,n):\n",
    "            if temp>lis[j]:\n",
    "                temp=lis[j]\n",
    "                index=j\n",
    "        value=lis[i]\n",
    "        lis[i]=lis[index]\n",
    "        lis[index]=value\n",
    "    return lis\n",
    "\n",
    "lis=[]\n",
    "n=int(input(\"Enter n\"))\n",
    "for i in range(n):\n",
    "    val=int(input(\"Enter val\"))\n",
    "    lis.append(val)\n",
    "\n",
    "result=fun(n,lis)\n",
    "print(result)"
   ]
  },
  {
   "cell_type": "code",
   "execution_count": 8,
   "id": "b7e4a4df-8c17-46de-999c-eb8a1f0c6b65",
   "metadata": {},
   "outputs": [
    {
     "name": "stdout",
     "output_type": "stream",
     "text": [
      "<mysql.connector.connection_cext.CMySQLConnection object at 0x0000008A78085010>\n",
      "(4, 'deepanshu', 1, 'ghar', 'home')\n",
      "(5, 'rohit', 80, 'nagar', 'town')\n",
      "(6, 'rohit', 80, 'nagar', 'town')\n"
     ]
    }
   ],
   "source": [
    "# install- python -m pip install mysql.connector.python\n",
    "import mysql.connector;\n",
    "mydb= mysql.connector.connect(\n",
    "    host=\"localhost\",\n",
    "    user=\"root\",\n",
    "    password=\"deepSQL@7573\",\n",
    "    database=\"python\"\n",
    ");\n",
    "print(mydb)\n",
    "\n",
    "mycursor=mydb.cursor();\n",
    "# mycursor.execute('CREATE DATABASE python')\n",
    "# mycursor.execute('SHOW DATABASES')\n",
    "# for i in mycursor:\n",
    "#     print(i)\n",
    "# mycursor.execute('CREATE TABLE table1(id INT PRIMARY KEY, name VARCHAR(50), marks INT NOT NULL,city VARCHAR(50) NOT NULL)')\n",
    "# mycursor.execute('SHOW TABLES')\n",
    "# for i in mycursor:\n",
    "#     print(i)\n",
    "# mycursor.execute('ALTER TABLE table1 ADD COLUMN state VARCHAR(50)')\n",
    "# sql='INSERT INTO table1 (id,name,marks,city) values(%s,%s,%s,%s)'\n",
    "# val=(\"1\",\"rohit\",\"80\",\"21\")\n",
    "# mycursor.execute(sql,val)\n",
    "# mydb.commit()\n",
    "# sql=('INSERT INTO table1 (id,name,marks,city,state) VALUES (%s,%s,%s,%s,%s)')\n",
    "# val=[\n",
    "#     (\"6\",\"rohit\",\"80\",\"nagar\",\"town\"),\n",
    "#     (\"2\",\"nitin\",\"90\",\"nagar\",\"city\"),\n",
    "#     # (\"3\",\"deepak\",\"100\",\"mudoti\",\"village\"),\n",
    "#     (\"4\",\"deepanshu\",\"1\",\"ghar\",\"home\")\n",
    "# ]\n",
    "# mycursor.executemany(sql,val)\n",
    "# mydb.commit()\n",
    "# print(mycursor.lastrowid)\n",
    "# print(mycursor.rowcount)\n",
    "# sql='SELECT id,name FROM table1 where name=%s'\n",
    "# address=('deepanshu',)\n",
    "# mycursor.execute('SELECT id,name FROM table1')\n",
    "# a=mycursor.fetchall()\n",
    "# for i in a:\n",
    "#     print(i)\n",
    "# sql='DELETE FROM table1 where name=%s'\n",
    "# val=('nitin',)\n",
    "# mycursor.execute(sql,val)\n",
    "# mydb.commit()\n",
    "# mycursor.execute('SELECT * FROM table1') \n",
    "# a=mycursor.fetchall()\n",
    "# for i in a:\n",
    "#     print(i)\n",
    "# mycursor.execute(\"UPDATE table1 SET state='city' where state='village'\")\n",
    "# mydb.commit()\n",
    "# mycursor.execute('SELECT * FROM table1')\n",
    "# sql= \"UPDATE table1 SET city=%s WHERE city=%s\"\n",
    "# val=('bharatpur','21')\n",
    "# mycursor.execute(sql,val)\n",
    "# mydb.commit()\n",
    "# mycursor.execute('SELECT * FROM table1')\n",
    "# for i in mycursor:\n",
    "#     print(i)\n",
    "# mycursor.execute('SELECT * FROM table1 LIMIT 5 OFFSET 2')\n",
    "# a=mycursor.fetchall()\n",
    "# for i in a:\n",
    "#     print(i)"
   ]
  },
  {
   "cell_type": "code",
   "execution_count": 41,
   "id": "0e562a57-426e-4a46-b785-f1410b34341e",
   "metadata": {},
   "outputs": [
    {
     "name": "stdout",
     "output_type": "stream",
     "text": [
      "(2, 'peter', 154, 154, 'Chocolate Heaven')\n",
      "(1, 'john', 154, 154, 'Chocolate Heaven')\n",
      "(3, 'amy', 155, 155, 'Tasty Lemons')\n",
      "(None, None, None, 156, 'Vanilla Dreams')\n"
     ]
    }
   ],
   "source": [
    "import mysql.connector\n",
    "\n",
    "mydb= mysql.connector.connect(\n",
    "    host=\"localhost\",\n",
    "    user=\"root\",\n",
    "    password=\"deepSQL@7573\",\n",
    "    database=\"python\"\n",
    ");\n",
    "\n",
    "mycursor= mydb.cursor()\n",
    "# mycursor.execute('CREATE TABLE user(id INT PRIMARY KEY, name VARCHAR(50), fav INT)')\n",
    "# sql='INSERT INTO user(id,name,fav) VALUES (%s,%s,%s)'\n",
    "# val=[\n",
    "#     (\"1\",\"john\",\"154\"),\n",
    "#     (\"2\",\"peter\",\"154\"),\n",
    "#     (\"3\",\"amy\",\"155\"),\n",
    "#     (\"4\",\"hannah\",\"0\"),\n",
    "#     (\"5\",\"michael\",\"0\")\n",
    "# ]\n",
    "# mycursor.executemany(sql,val)\n",
    "# mydb.commit()\n",
    "\n",
    "# mycursor.execute('CREATE TABLE product(id INT PRIMARY KEY, name VARCHAR(50))')\n",
    "# sql='INSERT INTO product(id,name) VALUES (%s,%s)'\n",
    "# val=[\n",
    "#     (\"154\",\"Chocolate Heaven\"),\n",
    "#     (\"155\",\"Tasty Lemons\"),\n",
    "#     (\"156\",\"Vanilla Dreams\")\n",
    "# ]\n",
    "# mycursor.executemany(sql,val)\n",
    "# mydb.commit()\n",
    "\n",
    "mycursor.execute('SELECT * FROM user as A \\\n",
    "                  Right JOIN product as B \\\n",
    "                  ON A.fav=B.id')\n",
    "a=mycursor.fetchall()\n",
    "for i in a:\n",
    "    print(i)"
   ]
  },
  {
   "cell_type": "code",
   "execution_count": null,
   "id": "429171c3-a6cd-4346-9e13-4972ece4eb93",
   "metadata": {},
   "outputs": [],
   "source": []
  }
 ],
 "metadata": {
  "kernelspec": {
   "display_name": "Python 3 (ipykernel)",
   "language": "python",
   "name": "python3"
  },
  "language_info": {
   "codemirror_mode": {
    "name": "ipython",
    "version": 3
   },
   "file_extension": ".py",
   "mimetype": "text/x-python",
   "name": "python",
   "nbconvert_exporter": "python",
   "pygments_lexer": "ipython3",
   "version": "3.12.1"
  }
 },
 "nbformat": 4,
 "nbformat_minor": 5
}
